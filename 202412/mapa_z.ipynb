{
 "cells": [
  {
   "cell_type": "code",
   "execution_count": 3,
   "metadata": {},
   "outputs": [],
   "source": [
    "# pip install pyarrow"
   ]
  },
  {
   "cell_type": "code",
   "execution_count": 1,
   "metadata": {},
   "outputs": [],
   "source": [
    "import geopandas as gpd\n",
    "import pandas as pd\n",
    "import numpy as np"
   ]
  },
  {
   "cell_type": "code",
   "execution_count": 2,
   "metadata": {},
   "outputs": [],
   "source": [
    "gdf = gpd.read_parquet('gdf_novos_por_regiao.parquet')"
   ]
  },
  {
   "cell_type": "code",
   "execution_count": 3,
   "metadata": {},
   "outputs": [
    {
     "data": {
      "text/html": [
       "<div>\n",
       "<style scoped>\n",
       "    .dataframe tbody tr th:only-of-type {\n",
       "        vertical-align: middle;\n",
       "    }\n",
       "\n",
       "    .dataframe tbody tr th {\n",
       "        vertical-align: top;\n",
       "    }\n",
       "\n",
       "    .dataframe thead th {\n",
       "        text-align: right;\n",
       "    }\n",
       "</style>\n",
       "<table border=\"1\" class=\"dataframe\">\n",
       "  <thead>\n",
       "    <tr style=\"text-align: right;\">\n",
       "      <th></th>\n",
       "      <th>cd_regiaorisco</th>\n",
       "      <th>geometry</th>\n",
       "      <th>cd_mun</th>\n",
       "      <th>uf</th>\n",
       "      <th>regiao</th>\n",
       "    </tr>\n",
       "  </thead>\n",
       "  <tbody>\n",
       "    <tr>\n",
       "      <th>0</th>\n",
       "      <td>520003</td>\n",
       "      <td>POLYGON ((-49.69684 -16.47110, -49.69683 -16.4...</td>\n",
       "      <td>520003</td>\n",
       "      <td>52</td>\n",
       "      <td>5</td>\n",
       "    </tr>\n",
       "    <tr>\n",
       "      <th>1</th>\n",
       "      <td>520006</td>\n",
       "      <td>POLYGON ((-48.11047 -17.44460, -48.11102 -17.4...</td>\n",
       "      <td>520006</td>\n",
       "      <td>52</td>\n",
       "      <td>5</td>\n",
       "    </tr>\n",
       "    <tr>\n",
       "      <th>2</th>\n",
       "      <td>520008</td>\n",
       "      <td>POLYGON ((-48.57355 -18.32787, -48.58237 -18.3...</td>\n",
       "      <td>520008</td>\n",
       "      <td>52</td>\n",
       "      <td>5</td>\n",
       "    </tr>\n",
       "    <tr>\n",
       "      <th>3</th>\n",
       "      <td>520009</td>\n",
       "      <td>POLYGON ((-49.73681 -17.74487, -49.73701 -17.7...</td>\n",
       "      <td>520009</td>\n",
       "      <td>52</td>\n",
       "      <td>5</td>\n",
       "    </tr>\n",
       "    <tr>\n",
       "      <th>4</th>\n",
       "      <td>5200100</td>\n",
       "      <td>POLYGON ((-48.66064 -16.50555, -48.66071 -16.5...</td>\n",
       "      <td>5200100</td>\n",
       "      <td>52</td>\n",
       "      <td>5</td>\n",
       "    </tr>\n",
       "  </tbody>\n",
       "</table>\n",
       "</div>"
      ],
      "text/plain": [
       "  cd_regiaorisco                                           geometry   cd_mun  \\\n",
       "0         520003  POLYGON ((-49.69684 -16.47110, -49.69683 -16.4...   520003   \n",
       "1         520006  POLYGON ((-48.11047 -17.44460, -48.11102 -17.4...   520006   \n",
       "2         520008  POLYGON ((-48.57355 -18.32787, -48.58237 -18.3...   520008   \n",
       "3         520009  POLYGON ((-49.73681 -17.74487, -49.73701 -17.7...   520009   \n",
       "4        5200100  POLYGON ((-48.66064 -16.50555, -48.66071 -16.5...  5200100   \n",
       "\n",
       "   uf regiao  \n",
       "0  52      5  \n",
       "1  52      5  \n",
       "2  52      5  \n",
       "3  52      5  \n",
       "4  52      5  "
      ]
     },
     "execution_count": 3,
     "metadata": {},
     "output_type": "execute_result"
    }
   ],
   "source": [
    "geometrias = gdf[['cd_RegiaoRisco', 'geometry']].rename(columns={'cd_RegiaoRisco': 'cd_regiaorisco'})\n",
    "geometrias['cd_mun'] = geometrias['cd_regiaorisco'].str[:7]\n",
    "geometrias['uf'] = geometrias['cd_regiaorisco'].str[:2]\n",
    "geometrias['regiao'] = geometrias['cd_regiaorisco'].str[:1]\n",
    "\n",
    "geometrias.head()"
   ]
  },
  {
   "cell_type": "code",
   "execution_count": 4,
   "metadata": {},
   "outputs": [],
   "source": [
    "reg_mun = geometrias[['cd_regiaorisco', 'cd_mun']].groupby('cd_mun').count().sort_values('cd_regiaorisco', ascending=False).reset_index()\n",
    "\n",
    "municipios = reg_mun[reg_mun['cd_regiaorisco'] > 1].cd_mun.unique()"
   ]
  },
  {
   "cell_type": "code",
   "execution_count": 6,
   "metadata": {},
   "outputs": [],
   "source": [
    "geometrias['macro'] = np.where(geometrias['cd_mun'].isin(municipios), geometrias['cd_mun'],\n",
    "            np.where(geometrias['regiao'].isin(['1', '2', '5']), geometrias['regiao'], geometrias['uf']))"
   ]
  },
  {
   "cell_type": "code",
   "execution_count": 10,
   "metadata": {},
   "outputs": [
    {
     "data": {
      "text/html": [
       "<div>\n",
       "<style scoped>\n",
       "    .dataframe tbody tr th:only-of-type {\n",
       "        vertical-align: middle;\n",
       "    }\n",
       "\n",
       "    .dataframe tbody tr th {\n",
       "        vertical-align: top;\n",
       "    }\n",
       "\n",
       "    .dataframe thead th {\n",
       "        text-align: right;\n",
       "    }\n",
       "</style>\n",
       "<table border=\"1\" class=\"dataframe\">\n",
       "  <thead>\n",
       "    <tr style=\"text-align: right;\">\n",
       "      <th></th>\n",
       "      <th>macro</th>\n",
       "      <th>cd_regiaorisco</th>\n",
       "    </tr>\n",
       "  </thead>\n",
       "  <tbody>\n",
       "    <tr>\n",
       "      <th>0</th>\n",
       "      <td>2</td>\n",
       "      <td>222</td>\n",
       "    </tr>\n",
       "    <tr>\n",
       "      <th>1</th>\n",
       "      <td>31</td>\n",
       "      <td>217</td>\n",
       "    </tr>\n",
       "    <tr>\n",
       "      <th>2</th>\n",
       "      <td>35</td>\n",
       "      <td>160</td>\n",
       "    </tr>\n",
       "    <tr>\n",
       "      <th>3</th>\n",
       "      <td>3550308</td>\n",
       "      <td>141</td>\n",
       "    </tr>\n",
       "    <tr>\n",
       "      <th>4</th>\n",
       "      <td>5</td>\n",
       "      <td>121</td>\n",
       "    </tr>\n",
       "    <tr>\n",
       "      <th>...</th>\n",
       "      <td>...</td>\n",
       "      <td>...</td>\n",
       "    </tr>\n",
       "    <tr>\n",
       "      <th>57</th>\n",
       "      <td>3549904</td>\n",
       "      <td>5</td>\n",
       "    </tr>\n",
       "    <tr>\n",
       "      <th>58</th>\n",
       "      <td>3525904</td>\n",
       "      <td>5</td>\n",
       "    </tr>\n",
       "    <tr>\n",
       "      <th>59</th>\n",
       "      <td>3548807</td>\n",
       "      <td>4</td>\n",
       "    </tr>\n",
       "    <tr>\n",
       "      <th>60</th>\n",
       "      <td>3534401</td>\n",
       "      <td>4</td>\n",
       "    </tr>\n",
       "    <tr>\n",
       "      <th>61</th>\n",
       "      <td>3170107</td>\n",
       "      <td>3</td>\n",
       "    </tr>\n",
       "  </tbody>\n",
       "</table>\n",
       "<p>62 rows × 2 columns</p>\n",
       "</div>"
      ],
      "text/plain": [
       "      macro  cd_regiaorisco\n",
       "0         2             222\n",
       "1        31             217\n",
       "2        35             160\n",
       "3   3550308             141\n",
       "4         5             121\n",
       "..      ...             ...\n",
       "57  3549904               5\n",
       "58  3525904               5\n",
       "59  3548807               4\n",
       "60  3534401               4\n",
       "61  3170107               3\n",
       "\n",
       "[62 rows x 2 columns]"
      ]
     },
     "execution_count": 10,
     "metadata": {},
     "output_type": "execute_result"
    }
   ],
   "source": [
    "geometrias[['macro', 'cd_regiaorisco']].groupby('macro').count().sort_values('cd_regiaorisco', ascending=False).reset_index()"
   ]
  },
  {
   "cell_type": "code",
   "execution_count": 11,
   "metadata": {},
   "outputs": [],
   "source": [
    "import libpysal\n",
    "import spopt"
   ]
  },
  {
   "cell_type": "code",
   "execution_count": 12,
   "metadata": {},
   "outputs": [
    {
     "data": {
      "text/plain": [
       "spopt.region.skater.Skater"
      ]
     },
     "execution_count": 12,
     "metadata": {},
     "output_type": "execute_result"
    }
   ],
   "source": [
    "spopt.region.Skater"
   ]
  },
  {
   "cell_type": "code",
   "execution_count": 14,
   "metadata": {},
   "outputs": [],
   "source": [
    "from scipy.stats import norm"
   ]
  },
  {
   "cell_type": "code",
   "execution_count": 19,
   "metadata": {},
   "outputs": [
    {
     "data": {
      "text/plain": [
       "1.959963984540054"
      ]
     },
     "execution_count": 19,
     "metadata": {},
     "output_type": "execute_result"
    }
   ],
   "source": [
    "norm.ppf(.975)"
   ]
  }
 ],
 "metadata": {
  "kernelspec": {
   "display_name": "mapas",
   "language": "python",
   "name": "python3"
  },
  "language_info": {
   "codemirror_mode": {
    "name": "ipython",
    "version": 3
   },
   "file_extension": ".py",
   "mimetype": "text/x-python",
   "name": "python",
   "nbconvert_exporter": "python",
   "pygments_lexer": "ipython3",
   "version": "3.7.13"
  }
 },
 "nbformat": 4,
 "nbformat_minor": 2
}
