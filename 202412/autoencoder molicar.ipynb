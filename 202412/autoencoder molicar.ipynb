{
 "cells": [
  {
   "cell_type": "code",
   "execution_count": 0,
   "metadata": {
    "application/vnd.databricks.v1+cell": {
     "cellMetadata": {
      "byteLimit": 2048000,
      "rowLimit": 10000
     },
     "collapsed": true,
     "inputWidgets": {},
     "nuid": "7e026ac5-9dba-4c4c-9f6c-f0c02ddd46f1",
     "showTitle": false,
     "tableResultSettingsMap": {},
     "title": ""
    }
   },
   "outputs": [
    {
     "data": {
      "text/html": [
       "<style scoped>\n",
       "  .ansiout {\n",
       "    display: block;\n",
       "    unicode-bidi: embed;\n",
       "    white-space: pre-wrap;\n",
       "    word-wrap: break-word;\n",
       "    word-break: break-all;\n",
       "    font-family: \"Menlo\", \"Monaco\", \"Consolas\", \"Ubuntu Mono\", \"Source Code Pro\", monospace;\n",
       "    font-size: 13px;\n",
       "    color: #555;\n",
       "    margin-left: 4px;\n",
       "    line-height: 19px;\n",
       "  }\n",
       "</style>\n",
       "<div class=\"ansiout\">Python interpreter will be restarted.\n",
       "Looking in links: /dbfs/FileStore/MotorPL_Analytics/py-wheels\n",
       "Processing /dbfs/FileStore/MotorPL_Analytics/py-wheels/pip-24.1.1-py3-none-any.whl\n",
       "Installing collected packages: pip\n",
       "  Attempting uninstall: pip\n",
       "    Found existing installation: pip 21.0.1\n",
       "    Uninstalling pip-21.0.1:\n",
       "      Successfully uninstalled pip-21.0.1\n",
       "Successfully installed pip-24.1.1\n",
       "Python interpreter will be restarted.\n",
       "Python interpreter will be restarted.\n",
       "Looking in links: /dbfs/FileStore/MotorPL_Analytics/py-wheels\n",
       "Processing /dbfs/FileStore/MotorPL_Analytics/py-wheels/scikit_learn-1.3.2-cp38-cp38-manylinux_2_17_x86_64.manylinux2014_x86_64.whl\n",
       "Requirement already satisfied: numpy&lt;2.0,&gt;=1.17.3 in /databricks/python3/lib/python3.8/site-packages (from scikit-learn==1.3.2) (1.20.1)\n",
       "Requirement already satisfied: scipy&gt;=1.5.0 in /databricks/python3/lib/python3.8/site-packages (from scikit-learn==1.3.2) (1.6.2)\n",
       "Processing /dbfs/FileStore/MotorPL_Analytics/py-wheels/joblib-1.4.2-py3-none-any.whl (from scikit-learn==1.3.2)\n",
       "Requirement already satisfied: threadpoolctl&gt;=2.0.0 in /databricks/python3/lib/python3.8/site-packages (from scikit-learn==1.3.2) (2.1.0)\n",
       "WARNING: Error parsing dependencies of pyzmq: Invalid version: &#39;cpython&#39;\n",
       "Installing collected packages: joblib, scikit-learn\n",
       "  Attempting uninstall: joblib\n",
       "    Found existing installation: joblib 1.0.1\n",
       "    Not uninstalling joblib at /databricks/python3/lib/python3.8/site-packages, outside environment /local_disk0/.ephemeral_nfs/envs/pythonEnv-c5fe2c36-7eb9-4ce4-8899-94e3ad2088b7\n",
       "    Can&#39;t uninstall &#39;joblib&#39;. No files were found to uninstall.\n",
       "  Attempting uninstall: scikit-learn\n",
       "    Found existing installation: scikit-learn 0.24.1\n",
       "    Not uninstalling scikit-learn at /databricks/python3/lib/python3.8/site-packages, outside environment /local_disk0/.ephemeral_nfs/envs/pythonEnv-c5fe2c36-7eb9-4ce4-8899-94e3ad2088b7\n",
       "    Can&#39;t uninstall &#39;scikit-learn&#39;. No files were found to uninstall.\n",
       "Successfully installed joblib-1.4.2 scikit-learn-1.3.2\n",
       "Python interpreter will be restarted.\n",
       "Python interpreter will be restarted.\n",
       "Looking in links: /dbfs/FileStore/MotorPL_Analytics/py-wheels\n",
       "Processing /dbfs/FileStore/MotorPL_Analytics/py-wheels/tensorflow-2.11.1-cp38-cp38-manylinux_2_17_x86_64.manylinux2014_x86_64.whl\n",
       "Processing /dbfs/FileStore/MotorPL_Analytics/py-wheels/absl_py-2.1.0-py3-none-any.whl (from tensorflow==2.11.1)\n",
       "Processing /dbfs/FileStore/MotorPL_Analytics/py-wheels/astunparse-1.6.3-py2.py3-none-any.whl (from tensorflow==2.11.1)\n",
       "Processing /dbfs/FileStore/MotorPL_Analytics/py-wheels/flatbuffers-24.3.25-py2.py3-none-any.whl (from tensorflow==2.11.1)\n",
       "Processing /dbfs/FileStore/MotorPL_Analytics/py-wheels/gast-0.4.0-py3-none-any.whl (from tensorflow==2.11.1)\n",
       "Processing /dbfs/FileStore/MotorPL_Analytics/py-wheels/google_pasta-0.2.0-py3-none-any.whl (from tensorflow==2.11.1)\n",
       "Processing /dbfs/FileStore/MotorPL_Analytics/py-wheels/grpcio-1.65.0-cp38-cp38-manylinux_2_17_x86_64.manylinux2014_x86_64.whl (from tensorflow==2.11.1)\n",
       "Processing /dbfs/FileStore/MotorPL_Analytics/py-wheels/h5py-3.11.0-cp38-cp38-manylinux_2_17_x86_64.manylinux2014_x86_64.whl (from tensorflow==2.11.1)\n",
       "Processing /dbfs/FileStore/MotorPL_Analytics/py-wheels/keras-2.11.0-py2.py3-none-any.whl (from tensorflow==2.11.1)\n",
       "Processing /dbfs/FileStore/MotorPL_Analytics/py-wheels/libclang-18.1.1-py2.py3-none-manylinux2010_x86_64.whl (from tensorflow==2.11.1)\n",
       "Requirement already satisfied: numpy&gt;=1.20 in /databricks/python3/lib/python3.8/site-packages (from tensorflow==2.11.1) (1.20.1)\n",
       "Processing /dbfs/FileStore/MotorPL_Analytics/py-wheels/opt_einsum-3.3.0-py3-none-any.whl (from tensorflow==2.11.1)\n",
       "Requirement already satisfied: packaging in /databricks/python3/lib/python3.8/site-packages (from tensorflow==2.11.1) (20.9)\n",
       "Requirement already satisfied: protobuf&lt;3.20,&gt;=3.9.2 in /databricks/python3/lib/python3.8/site-packages (from tensorflow==2.11.1) (3.17.2)\n",
       "Requirement already satisfied: setuptools in /usr/local/lib/python3.8/dist-packages (from tensorflow==2.11.1) (52.0.0)\n",
       "Requirement already satisfied: six&gt;=1.12.0 in /databricks/python3/lib/python3.8/site-packages (from tensorflow==2.11.1) (1.15.0)\n",
       "Processing /dbfs/FileStore/MotorPL_Analytics/py-wheels/tensorboard-2.11.2-py3-none-any.whl (from tensorflow==2.11.1)\n",
       "Processing /dbfs/FileStore/MotorPL_Analytics/py-wheels/tensorflow_estimator-2.11.0-py2.py3-none-any.whl (from tensorflow==2.11.1)\n",
       "Processing /dbfs/FileStore/MotorPL_Analytics/py-wheels/termcolor-2.4.0-py3-none-any.whl (from tensorflow==2.11.1)\n",
       "Processing /dbfs/FileStore/MotorPL_Analytics/py-wheels/typing_extensions-4.12.2-py3-none-any.whl (from tensorflow==2.11.1)\n",
       "Processing /dbfs/FileStore/MotorPL_Analytics/py-wheels/wrapt-1.16.0-cp38-cp38-manylinux_2_5_x86_64.manylinux1_x86_64.manylinux_2_17_x86_64.manylinux2014_x86_64.whl (from tensorflow==2.11.1)\n",
       "Processing /dbfs/FileStore/MotorPL_Analytics/py-wheels/tensorflow_io_gcs_filesystem-0.34.0-cp38-cp38-manylinux_2_12_x86_64.manylinux2010_x86_64.whl (from tensorflow==2.11.1)\n",
       "Requirement already satisfied: wheel&lt;1.0,&gt;=0.23.0 in /databricks/python3/lib/python3.8/site-packages (from astunparse&gt;=1.6.0-&gt;tensorflow==2.11.1) (0.36.2)\n",
       "Processing /dbfs/FileStore/MotorPL_Analytics/py-wheels/google_auth-2.32.0-py2.py3-none-any.whl (from tensorboard&lt;2.12,&gt;=2.11-&gt;tensorflow==2.11.1)\n",
       "Processing /dbfs/FileStore/MotorPL_Analytics/py-wheels/google_auth_oauthlib-0.4.6-py2.py3-none-any.whl (from tensorboard&lt;2.12,&gt;=2.11-&gt;tensorflow==2.11.1)\n",
       "Processing /dbfs/FileStore/MotorPL_Analytics/py-wheels/Markdown-3.6-py3-none-any.whl (from tensorboard&lt;2.12,&gt;=2.11-&gt;tensorflow==2.11.1)\n",
       "Requirement already satisfied: requests&lt;3,&gt;=2.21.0 in /databricks/python3/lib/python3.8/site-packages (from tensorboard&lt;2.12,&gt;=2.11-&gt;tensorflow==2.11.1) (2.25.1)\n",
       "Processing /dbfs/FileStore/MotorPL_Analytics/py-wheels/tensorboard_data_server-0.6.1-py3-none-manylinux2010_x86_64.whl (from tensorboard&lt;2.12,&gt;=2.11-&gt;tensorflow==2.11.1)\n",
       "Processing /dbfs/FileStore/MotorPL_Analytics/py-wheels/tensorboard_plugin_wit-1.8.1-py3-none-any.whl (from tensorboard&lt;2.12,&gt;=2.11-&gt;tensorflow==2.11.1)\n",
       "Processing /dbfs/FileStore/MotorPL_Analytics/py-wheels/werkzeug-3.0.3-py3-none-any.whl (from tensorboard&lt;2.12,&gt;=2.11-&gt;tensorflow==2.11.1)\n",
       "Requirement already satisfied: pyparsing&gt;=2.0.2 in /databricks/python3/lib/python3.8/site-packages (from packaging-&gt;tensorflow==2.11.1) (2.4.7)\n",
       "Processing /dbfs/FileStore/MotorPL_Analytics/py-wheels/cachetools-5.3.3-py3-none-any.whl (from google-auth&lt;3,&gt;=1.6.3-&gt;tensorboard&lt;2.12,&gt;=2.11-&gt;tensorflow==2.11.1)\n",
       "Processing /dbfs/FileStore/MotorPL_Analytics/py-wheels/pyasn1_modules-0.4.0-py3-none-any.whl (from google-auth&lt;3,&gt;=1.6.3-&gt;tensorboard&lt;2.12,&gt;=2.11-&gt;tensorflow==2.11.1)\n",
       "Processing /dbfs/FileStore/MotorPL_Analytics/py-wheels/rsa-4.9-py3-none-any.whl (from google-auth&lt;3,&gt;=1.6.3-&gt;tensorboard&lt;2.12,&gt;=2.11-&gt;tensorflow==2.11.1)\n",
       "Processing /dbfs/FileStore/MotorPL_Analytics/py-wheels/requests_oauthlib-2.0.0-py2.py3-none-any.whl (from google-auth-oauthlib&lt;0.5,&gt;=0.4.1-&gt;tensorboard&lt;2.12,&gt;=2.11-&gt;tensorflow==2.11.1)\n",
       "Processing /dbfs/FileStore/MotorPL_Analytics/py-wheels/importlib_metadata-8.0.0-py3-none-any.whl (from markdown&gt;=2.6.8-&gt;tensorboard&lt;2.12,&gt;=2.11-&gt;tensorflow==2.11.1)\n",
       "Requirement already satisfied: chardet&lt;5,&gt;=3.0.2 in /databricks/python3/lib/python3.8/site-packages (from requests&lt;3,&gt;=2.21.0-&gt;tensorboard&lt;2.12,&gt;=2.11-&gt;tensorflow==2.11.1) (4.0.0)\n",
       "Requirement already satisfied: idna&lt;3,&gt;=2.5 in /databricks/python3/lib/python3.8/site-packages (from requests&lt;3,&gt;=2.21.0-&gt;tensorboard&lt;2.12,&gt;=2.11-&gt;tensorflow==2.11.1) (2.10)\n",
       "Requirement already satisfied: urllib3&lt;1.27,&gt;=1.21.1 in /databricks/python3/lib/python3.8/site-packages (from requests&lt;3,&gt;=2.21.0-&gt;tensorboard&lt;2.12,&gt;=2.11-&gt;tensorflow==2.11.1) (1.25.11)\n",
       "Requirement already satisfied: certifi&gt;=2017.4.17 in /databricks/python3/lib/python3.8/site-packages (from requests&lt;3,&gt;=2.21.0-&gt;tensorboard&lt;2.12,&gt;=2.11-&gt;tensorflow==2.11.1) (2020.12.5)\n",
       "Processing /dbfs/FileStore/MotorPL_Analytics/py-wheels/MarkupSafe-2.1.5-cp38-cp38-manylinux_2_17_x86_64.manylinux2014_x86_64.whl (from werkzeug&gt;=1.0.1-&gt;tensorboard&lt;2.12,&gt;=2.11-&gt;tensorflow==2.11.1)\n",
       "Processing /dbfs/FileStore/MotorPL_Analytics/py-wheels/zipp-3.19.2-py3-none-any.whl (from importlib-metadata&gt;=4.4-&gt;markdown&gt;=2.6.8-&gt;tensorboard&lt;2.12,&gt;=2.11-&gt;tensorflow==2.11.1)\n",
       "Processing /dbfs/FileStore/MotorPL_Analytics/py-wheels/pyasn1-0.6.0-py2.py3-none-any.whl (from pyasn1-modules&gt;=0.2.1-&gt;google-auth&lt;3,&gt;=1.6.3-&gt;tensorboard&lt;2.12,&gt;=2.11-&gt;tensorflow==2.11.1)\n",
       "Processing /dbfs/FileStore/MotorPL_Analytics/py-wheels/oauthlib-3.2.2-py3-none-any.whl (from requests-oauthlib&gt;=0.7.0-&gt;google-auth-oauthlib&lt;0.5,&gt;=0.4.1-&gt;tensorboard&lt;2.12,&gt;=2.11-&gt;tensorflow==2.11.1)\n",
       "WARNING: Error parsing dependencies of pyzmq: Invalid version: &#39;cpython&#39;\n",
       "Installing collected packages: tensorboard-plugin-wit, libclang, flatbuffers, zipp, wrapt, typing-extensions, termcolor, tensorflow-io-gcs-filesystem, tensorflow-estimator, tensorboard-data-server, pyasn1, opt-einsum, oauthlib, MarkupSafe, keras, h5py, grpcio, google-pasta, gast, cachetools, astunparse, absl-py, werkzeug, rsa, requests-oauthlib, pyasn1-modules, importlib-metadata, markdown, google-auth, google-auth-oauthlib, tensorboard, tensorflow\n",
       "  Attempting uninstall: MarkupSafe\n",
       "    Found existing installation: MarkupSafe 2.0.1\n",
       "    Not uninstalling markupsafe at /databricks/python3/lib/python3.8/site-packages, outside environment /local_disk0/.ephemeral_nfs/envs/pythonEnv-c5fe2c36-7eb9-4ce4-8899-94e3ad2088b7\n",
       "    Can&#39;t uninstall &#39;MarkupSafe&#39;. No files were found to uninstall.\n",
       "ERROR: pip&#39;s dependency resolver does not currently take into account all the packages that are installed. This behaviour is the source of the following dependency conflicts.\n",
       "notebook 6.3.0 requires pyzmq&gt;=17, which is not installed.\n",
       "Successfully installed MarkupSafe-2.1.5 absl-py-2.1.0 astunparse-1.6.3 cachetools-5.3.3 flatbuffers-24.3.25 gast-0.4.0 google-auth-2.32.0 google-auth-oauthlib-0.4.6 google-pasta-0.2.0 grpcio-1.65.0 h5py-3.11.0 importlib-metadata-8.0.0 keras-2.11.0 libclang-18.1.1 markdown-3.6 oauthlib-3.2.2 opt-einsum-3.3.0 pyasn1-0.6.0 pyasn1-modules-0.4.0 requests-oauthlib-2.0.0 rsa-4.9 tensorboard-2.11.2 tensorboard-data-server-0.6.1 tensorboard-plugin-wit-1.8.1 tensorflow-2.11.1 tensorflow-estimator-2.11.0 tensorflow-io-gcs-filesystem-0.34.0 termcolor-2.4.0 typing-extensions-4.12.2 werkzeug-3.0.3 wrapt-1.16.0 zipp-3.19.2\n",
       "Python interpreter will be restarted.\n",
       "Python interpreter will be restarted.\n",
       "Looking in links: /dbfs/FileStore/MotorPL_Analytics/py-wheels\n",
       "Processing /dbfs/FileStore/MotorPL_Analytics/py-wheels/pydot-2.0.0-py3-none-any.whl\n",
       "Processing /dbfs/FileStore/MotorPL_Analytics/py-wheels/pyparsing-3.1.2-py3-none-any.whl (from pydot==2.0.0)\n",
       "WARNING: Error parsing dependencies of pyzmq: Invalid version: &#39;cpython&#39;\n",
       "Installing collected packages: pyparsing, pydot\n",
       "  Attempting uninstall: pyparsing\n",
       "    Found existing installation: pyparsing 2.4.7\n",
       "    Not uninstalling pyparsing at /databricks/python3/lib/python3.8/site-packages, outside environment /local_disk0/.ephemeral_nfs/envs/pythonEnv-c5fe2c36-7eb9-4ce4-8899-94e3ad2088b7\n",
       "    Can&#39;t uninstall &#39;pyparsing&#39;. No files were found to uninstall.\n",
       "Successfully installed pydot-2.0.0 pyparsing-3.1.2\n",
       "Python interpreter will be restarted.\n",
       "Python interpreter will be restarted.\n",
       "Looking in links: /dbfs/FileStore/MotorPL_Analytics/py-wheels\n",
       "Processing /dbfs/FileStore/MotorPL_Analytics/py-wheels/optuna-3.6.1-py3-none-any.whl\n",
       "Processing /dbfs/FileStore/MotorPL_Analytics/py-wheels/alembic-1.13.2-py3-none-any.whl (from optuna==3.6.1)\n",
       "Processing /dbfs/FileStore/MotorPL_Analytics/py-wheels/colorlog-6.8.2-py3-none-any.whl (from optuna==3.6.1)\n",
       "Requirement already satisfied: numpy in /databricks/python3/lib/python3.8/site-packages (from optuna==3.6.1) (1.20.1)\n",
       "Requirement already satisfied: packaging&gt;=20.0 in /databricks/python3/lib/python3.8/site-packages (from optuna==3.6.1) (20.9)\n",
       "Processing /dbfs/FileStore/MotorPL_Analytics/py-wheels/SQLAlchemy-2.0.31-py3-none-any.whl (from optuna==3.6.1)\n",
       "Processing /dbfs/FileStore/MotorPL_Analytics/py-wheels/tqdm-4.66.5-py3-none-any.whl (from optuna==3.6.1)\n",
       "Processing /dbfs/FileStore/MotorPL_Analytics/py-wheels/PyYAML-6.0.2-cp38-cp38-manylinux_2_17_x86_64.manylinux2014_x86_64.whl (from optuna==3.6.1)\n",
       "Processing /dbfs/FileStore/MotorPL_Analytics/py-wheels/Mako-1.3.5-py3-none-any.whl (from alembic&gt;=1.5.0-&gt;optuna==3.6.1)\n",
       "Requirement already satisfied: typing-extensions&gt;=4 in /local_disk0/.ephemeral_nfs/envs/pythonEnv-c5fe2c36-7eb9-4ce4-8899-94e3ad2088b7/lib/python3.8/site-packages (from alembic&gt;=1.5.0-&gt;optuna==3.6.1) (4.12.2)\n",
       "Requirement already satisfied: importlib-metadata in /local_disk0/.ephemeral_nfs/envs/pythonEnv-c5fe2c36-7eb9-4ce4-8899-94e3ad2088b7/lib/python3.8/site-packages (from alembic&gt;=1.5.0-&gt;optuna==3.6.1) (8.0.0)\n",
       "Processing /dbfs/FileStore/MotorPL_Analytics/py-wheels/importlib_resources-6.4.0-py3-none-any.whl (from alembic&gt;=1.5.0-&gt;optuna==3.6.1)\n",
       "Requirement already satisfied: pyparsing&gt;=2.0.2 in /local_disk0/.ephemeral_nfs/envs/pythonEnv-c5fe2c36-7eb9-4ce4-8899-94e3ad2088b7/lib/python3.8/site-packages (from packaging&gt;=20.0-&gt;optuna==3.6.1) (3.1.2)\n",
       "Processing /dbfs/FileStore/MotorPL_Analytics/py-wheels/greenlet-1.1.3.post0-cp38-cp38-manylinux1_x86_64.whl (from sqlalchemy&gt;=1.3.0-&gt;optuna==3.6.1)\n",
       "Requirement already satisfied: zipp&gt;=0.5 in /local_disk0/.ephemeral_nfs/envs/pythonEnv-c5fe2c36-7eb9-4ce4-8899-94e3ad2088b7/lib/python3.8/site-packages (from importlib-metadata-&gt;alembic&gt;=1.5.0-&gt;optuna==3.6.1) (3.19.2)\n",
       "Requirement already satisfied: MarkupSafe&gt;=0.9.2 in /local_disk0/.ephemeral_nfs/envs/pythonEnv-c5fe2c36-7eb9-4ce4-8899-94e3ad2088b7/lib/python3.8/site-packages (from Mako-&gt;alembic&gt;=1.5.0-&gt;optuna==3.6.1) (2.1.5)\n",
       "WARNING: Error parsing dependencies of pyzmq: Invalid version: &#39;cpython&#39;\n",
       "Installing collected packages: tqdm, PyYAML, Mako, importlib-resources, greenlet, colorlog, sqlalchemy, alembic, optuna\n",
       "Successfully installed Mako-1.3.5 PyYAML-6.0.2 alembic-1.13.2 colorlog-6.8.2 greenlet-1.1.3.post0 importlib-resources-6.4.0 optuna-3.6.1 sqlalchemy-2.0.31 tqdm-4.66.5\n",
       "Python interpreter will be restarted.\n",
       "</div>"
      ]
     },
     "metadata": {
      "application/vnd.databricks.v1+output": {
       "addedWidgets": {},
       "arguments": {},
       "data": "<div class=\"ansiout\">Python interpreter will be restarted.\nLooking in links: /dbfs/FileStore/MotorPL_Analytics/py-wheels\nProcessing /dbfs/FileStore/MotorPL_Analytics/py-wheels/pip-24.1.1-py3-none-any.whl\nInstalling collected packages: pip\n  Attempting uninstall: pip\n    Found existing installation: pip 21.0.1\n    Uninstalling pip-21.0.1:\n      Successfully uninstalled pip-21.0.1\nSuccessfully installed pip-24.1.1\nPython interpreter will be restarted.\nPython interpreter will be restarted.\nLooking in links: /dbfs/FileStore/MotorPL_Analytics/py-wheels\nProcessing /dbfs/FileStore/MotorPL_Analytics/py-wheels/scikit_learn-1.3.2-cp38-cp38-manylinux_2_17_x86_64.manylinux2014_x86_64.whl\nRequirement already satisfied: numpy&lt;2.0,&gt;=1.17.3 in /databricks/python3/lib/python3.8/site-packages (from scikit-learn==1.3.2) (1.20.1)\nRequirement already satisfied: scipy&gt;=1.5.0 in /databricks/python3/lib/python3.8/site-packages (from scikit-learn==1.3.2) (1.6.2)\nProcessing /dbfs/FileStore/MotorPL_Analytics/py-wheels/joblib-1.4.2-py3-none-any.whl (from scikit-learn==1.3.2)\nRequirement already satisfied: threadpoolctl&gt;=2.0.0 in /databricks/python3/lib/python3.8/site-packages (from scikit-learn==1.3.2) (2.1.0)\nWARNING: Error parsing dependencies of pyzmq: Invalid version: &#39;cpython&#39;\nInstalling collected packages: joblib, scikit-learn\n  Attempting uninstall: joblib\n    Found existing installation: joblib 1.0.1\n    Not uninstalling joblib at /databricks/python3/lib/python3.8/site-packages, outside environment /local_disk0/.ephemeral_nfs/envs/pythonEnv-c5fe2c36-7eb9-4ce4-8899-94e3ad2088b7\n    Can&#39;t uninstall &#39;joblib&#39;. No files were found to uninstall.\n  Attempting uninstall: scikit-learn\n    Found existing installation: scikit-learn 0.24.1\n    Not uninstalling scikit-learn at /databricks/python3/lib/python3.8/site-packages, outside environment /local_disk0/.ephemeral_nfs/envs/pythonEnv-c5fe2c36-7eb9-4ce4-8899-94e3ad2088b7\n    Can&#39;t uninstall &#39;scikit-learn&#39;. No files were found to uninstall.\nSuccessfully installed joblib-1.4.2 scikit-learn-1.3.2\nPython interpreter will be restarted.\nPython interpreter will be restarted.\nLooking in links: /dbfs/FileStore/MotorPL_Analytics/py-wheels\nProcessing /dbfs/FileStore/MotorPL_Analytics/py-wheels/tensorflow-2.11.1-cp38-cp38-manylinux_2_17_x86_64.manylinux2014_x86_64.whl\nProcessing /dbfs/FileStore/MotorPL_Analytics/py-wheels/absl_py-2.1.0-py3-none-any.whl (from tensorflow==2.11.1)\nProcessing /dbfs/FileStore/MotorPL_Analytics/py-wheels/astunparse-1.6.3-py2.py3-none-any.whl (from tensorflow==2.11.1)\nProcessing /dbfs/FileStore/MotorPL_Analytics/py-wheels/flatbuffers-24.3.25-py2.py3-none-any.whl (from tensorflow==2.11.1)\nProcessing /dbfs/FileStore/MotorPL_Analytics/py-wheels/gast-0.4.0-py3-none-any.whl (from tensorflow==2.11.1)\nProcessing /dbfs/FileStore/MotorPL_Analytics/py-wheels/google_pasta-0.2.0-py3-none-any.whl (from tensorflow==2.11.1)\nProcessing /dbfs/FileStore/MotorPL_Analytics/py-wheels/grpcio-1.65.0-cp38-cp38-manylinux_2_17_x86_64.manylinux2014_x86_64.whl (from tensorflow==2.11.1)\nProcessing /dbfs/FileStore/MotorPL_Analytics/py-wheels/h5py-3.11.0-cp38-cp38-manylinux_2_17_x86_64.manylinux2014_x86_64.whl (from tensorflow==2.11.1)\nProcessing /dbfs/FileStore/MotorPL_Analytics/py-wheels/keras-2.11.0-py2.py3-none-any.whl (from tensorflow==2.11.1)\nProcessing /dbfs/FileStore/MotorPL_Analytics/py-wheels/libclang-18.1.1-py2.py3-none-manylinux2010_x86_64.whl (from tensorflow==2.11.1)\nRequirement already satisfied: numpy&gt;=1.20 in /databricks/python3/lib/python3.8/site-packages (from tensorflow==2.11.1) (1.20.1)\nProcessing /dbfs/FileStore/MotorPL_Analytics/py-wheels/opt_einsum-3.3.0-py3-none-any.whl (from tensorflow==2.11.1)\nRequirement already satisfied: packaging in /databricks/python3/lib/python3.8/site-packages (from tensorflow==2.11.1) (20.9)\nRequirement already satisfied: protobuf&lt;3.20,&gt;=3.9.2 in /databricks/python3/lib/python3.8/site-packages (from tensorflow==2.11.1) (3.17.2)\nRequirement already satisfied: setuptools in /usr/local/lib/python3.8/dist-packages (from tensorflow==2.11.1) (52.0.0)\nRequirement already satisfied: six&gt;=1.12.0 in /databricks/python3/lib/python3.8/site-packages (from tensorflow==2.11.1) (1.15.0)\nProcessing /dbfs/FileStore/MotorPL_Analytics/py-wheels/tensorboard-2.11.2-py3-none-any.whl (from tensorflow==2.11.1)\nProcessing /dbfs/FileStore/MotorPL_Analytics/py-wheels/tensorflow_estimator-2.11.0-py2.py3-none-any.whl (from tensorflow==2.11.1)\nProcessing /dbfs/FileStore/MotorPL_Analytics/py-wheels/termcolor-2.4.0-py3-none-any.whl (from tensorflow==2.11.1)\nProcessing /dbfs/FileStore/MotorPL_Analytics/py-wheels/typing_extensions-4.12.2-py3-none-any.whl (from tensorflow==2.11.1)\nProcessing /dbfs/FileStore/MotorPL_Analytics/py-wheels/wrapt-1.16.0-cp38-cp38-manylinux_2_5_x86_64.manylinux1_x86_64.manylinux_2_17_x86_64.manylinux2014_x86_64.whl (from tensorflow==2.11.1)\nProcessing /dbfs/FileStore/MotorPL_Analytics/py-wheels/tensorflow_io_gcs_filesystem-0.34.0-cp38-cp38-manylinux_2_12_x86_64.manylinux2010_x86_64.whl (from tensorflow==2.11.1)\nRequirement already satisfied: wheel&lt;1.0,&gt;=0.23.0 in /databricks/python3/lib/python3.8/site-packages (from astunparse&gt;=1.6.0-&gt;tensorflow==2.11.1) (0.36.2)\nProcessing /dbfs/FileStore/MotorPL_Analytics/py-wheels/google_auth-2.32.0-py2.py3-none-any.whl (from tensorboard&lt;2.12,&gt;=2.11-&gt;tensorflow==2.11.1)\nProcessing /dbfs/FileStore/MotorPL_Analytics/py-wheels/google_auth_oauthlib-0.4.6-py2.py3-none-any.whl (from tensorboard&lt;2.12,&gt;=2.11-&gt;tensorflow==2.11.1)\nProcessing /dbfs/FileStore/MotorPL_Analytics/py-wheels/Markdown-3.6-py3-none-any.whl (from tensorboard&lt;2.12,&gt;=2.11-&gt;tensorflow==2.11.1)\nRequirement already satisfied: requests&lt;3,&gt;=2.21.0 in /databricks/python3/lib/python3.8/site-packages (from tensorboard&lt;2.12,&gt;=2.11-&gt;tensorflow==2.11.1) (2.25.1)\nProcessing /dbfs/FileStore/MotorPL_Analytics/py-wheels/tensorboard_data_server-0.6.1-py3-none-manylinux2010_x86_64.whl (from tensorboard&lt;2.12,&gt;=2.11-&gt;tensorflow==2.11.1)\nProcessing /dbfs/FileStore/MotorPL_Analytics/py-wheels/tensorboard_plugin_wit-1.8.1-py3-none-any.whl (from tensorboard&lt;2.12,&gt;=2.11-&gt;tensorflow==2.11.1)\nProcessing /dbfs/FileStore/MotorPL_Analytics/py-wheels/werkzeug-3.0.3-py3-none-any.whl (from tensorboard&lt;2.12,&gt;=2.11-&gt;tensorflow==2.11.1)\nRequirement already satisfied: pyparsing&gt;=2.0.2 in /databricks/python3/lib/python3.8/site-packages (from packaging-&gt;tensorflow==2.11.1) (2.4.7)\nProcessing /dbfs/FileStore/MotorPL_Analytics/py-wheels/cachetools-5.3.3-py3-none-any.whl (from google-auth&lt;3,&gt;=1.6.3-&gt;tensorboard&lt;2.12,&gt;=2.11-&gt;tensorflow==2.11.1)\nProcessing /dbfs/FileStore/MotorPL_Analytics/py-wheels/pyasn1_modules-0.4.0-py3-none-any.whl (from google-auth&lt;3,&gt;=1.6.3-&gt;tensorboard&lt;2.12,&gt;=2.11-&gt;tensorflow==2.11.1)\nProcessing /dbfs/FileStore/MotorPL_Analytics/py-wheels/rsa-4.9-py3-none-any.whl (from google-auth&lt;3,&gt;=1.6.3-&gt;tensorboard&lt;2.12,&gt;=2.11-&gt;tensorflow==2.11.1)\nProcessing /dbfs/FileStore/MotorPL_Analytics/py-wheels/requests_oauthlib-2.0.0-py2.py3-none-any.whl (from google-auth-oauthlib&lt;0.5,&gt;=0.4.1-&gt;tensorboard&lt;2.12,&gt;=2.11-&gt;tensorflow==2.11.1)\nProcessing /dbfs/FileStore/MotorPL_Analytics/py-wheels/importlib_metadata-8.0.0-py3-none-any.whl (from markdown&gt;=2.6.8-&gt;tensorboard&lt;2.12,&gt;=2.11-&gt;tensorflow==2.11.1)\nRequirement already satisfied: chardet&lt;5,&gt;=3.0.2 in /databricks/python3/lib/python3.8/site-packages (from requests&lt;3,&gt;=2.21.0-&gt;tensorboard&lt;2.12,&gt;=2.11-&gt;tensorflow==2.11.1) (4.0.0)\nRequirement already satisfied: idna&lt;3,&gt;=2.5 in /databricks/python3/lib/python3.8/site-packages (from requests&lt;3,&gt;=2.21.0-&gt;tensorboard&lt;2.12,&gt;=2.11-&gt;tensorflow==2.11.1) (2.10)\nRequirement already satisfied: urllib3&lt;1.27,&gt;=1.21.1 in /databricks/python3/lib/python3.8/site-packages (from requests&lt;3,&gt;=2.21.0-&gt;tensorboard&lt;2.12,&gt;=2.11-&gt;tensorflow==2.11.1) (1.25.11)\nRequirement already satisfied: certifi&gt;=2017.4.17 in /databricks/python3/lib/python3.8/site-packages (from requests&lt;3,&gt;=2.21.0-&gt;tensorboard&lt;2.12,&gt;=2.11-&gt;tensorflow==2.11.1) (2020.12.5)\nProcessing /dbfs/FileStore/MotorPL_Analytics/py-wheels/MarkupSafe-2.1.5-cp38-cp38-manylinux_2_17_x86_64.manylinux2014_x86_64.whl (from werkzeug&gt;=1.0.1-&gt;tensorboard&lt;2.12,&gt;=2.11-&gt;tensorflow==2.11.1)\nProcessing /dbfs/FileStore/MotorPL_Analytics/py-wheels/zipp-3.19.2-py3-none-any.whl (from importlib-metadata&gt;=4.4-&gt;markdown&gt;=2.6.8-&gt;tensorboard&lt;2.12,&gt;=2.11-&gt;tensorflow==2.11.1)\nProcessing /dbfs/FileStore/MotorPL_Analytics/py-wheels/pyasn1-0.6.0-py2.py3-none-any.whl (from pyasn1-modules&gt;=0.2.1-&gt;google-auth&lt;3,&gt;=1.6.3-&gt;tensorboard&lt;2.12,&gt;=2.11-&gt;tensorflow==2.11.1)\nProcessing /dbfs/FileStore/MotorPL_Analytics/py-wheels/oauthlib-3.2.2-py3-none-any.whl (from requests-oauthlib&gt;=0.7.0-&gt;google-auth-oauthlib&lt;0.5,&gt;=0.4.1-&gt;tensorboard&lt;2.12,&gt;=2.11-&gt;tensorflow==2.11.1)\nWARNING: Error parsing dependencies of pyzmq: Invalid version: &#39;cpython&#39;\nInstalling collected packages: tensorboard-plugin-wit, libclang, flatbuffers, zipp, wrapt, typing-extensions, termcolor, tensorflow-io-gcs-filesystem, tensorflow-estimator, tensorboard-data-server, pyasn1, opt-einsum, oauthlib, MarkupSafe, keras, h5py, grpcio, google-pasta, gast, cachetools, astunparse, absl-py, werkzeug, rsa, requests-oauthlib, pyasn1-modules, importlib-metadata, markdown, google-auth, google-auth-oauthlib, tensorboard, tensorflow\n  Attempting uninstall: MarkupSafe\n    Found existing installation: MarkupSafe 2.0.1\n    Not uninstalling markupsafe at /databricks/python3/lib/python3.8/site-packages, outside environment /local_disk0/.ephemeral_nfs/envs/pythonEnv-c5fe2c36-7eb9-4ce4-8899-94e3ad2088b7\n    Can&#39;t uninstall &#39;MarkupSafe&#39;. No files were found to uninstall.\nERROR: pip&#39;s dependency resolver does not currently take into account all the packages that are installed. This behaviour is the source of the following dependency conflicts.\nnotebook 6.3.0 requires pyzmq&gt;=17, which is not installed.\nSuccessfully installed MarkupSafe-2.1.5 absl-py-2.1.0 astunparse-1.6.3 cachetools-5.3.3 flatbuffers-24.3.25 gast-0.4.0 google-auth-2.32.0 google-auth-oauthlib-0.4.6 google-pasta-0.2.0 grpcio-1.65.0 h5py-3.11.0 importlib-metadata-8.0.0 keras-2.11.0 libclang-18.1.1 markdown-3.6 oauthlib-3.2.2 opt-einsum-3.3.0 pyasn1-0.6.0 pyasn1-modules-0.4.0 requests-oauthlib-2.0.0 rsa-4.9 tensorboard-2.11.2 tensorboard-data-server-0.6.1 tensorboard-plugin-wit-1.8.1 tensorflow-2.11.1 tensorflow-estimator-2.11.0 tensorflow-io-gcs-filesystem-0.34.0 termcolor-2.4.0 typing-extensions-4.12.2 werkzeug-3.0.3 wrapt-1.16.0 zipp-3.19.2\nPython interpreter will be restarted.\nPython interpreter will be restarted.\nLooking in links: /dbfs/FileStore/MotorPL_Analytics/py-wheels\nProcessing /dbfs/FileStore/MotorPL_Analytics/py-wheels/pydot-2.0.0-py3-none-any.whl\nProcessing /dbfs/FileStore/MotorPL_Analytics/py-wheels/pyparsing-3.1.2-py3-none-any.whl (from pydot==2.0.0)\nWARNING: Error parsing dependencies of pyzmq: Invalid version: &#39;cpython&#39;\nInstalling collected packages: pyparsing, pydot\n  Attempting uninstall: pyparsing\n    Found existing installation: pyparsing 2.4.7\n    Not uninstalling pyparsing at /databricks/python3/lib/python3.8/site-packages, outside environment /local_disk0/.ephemeral_nfs/envs/pythonEnv-c5fe2c36-7eb9-4ce4-8899-94e3ad2088b7\n    Can&#39;t uninstall &#39;pyparsing&#39;. No files were found to uninstall.\nSuccessfully installed pydot-2.0.0 pyparsing-3.1.2\nPython interpreter will be restarted.\nPython interpreter will be restarted.\nLooking in links: /dbfs/FileStore/MotorPL_Analytics/py-wheels\nProcessing /dbfs/FileStore/MotorPL_Analytics/py-wheels/optuna-3.6.1-py3-none-any.whl\nProcessing /dbfs/FileStore/MotorPL_Analytics/py-wheels/alembic-1.13.2-py3-none-any.whl (from optuna==3.6.1)\nProcessing /dbfs/FileStore/MotorPL_Analytics/py-wheels/colorlog-6.8.2-py3-none-any.whl (from optuna==3.6.1)\nRequirement already satisfied: numpy in /databricks/python3/lib/python3.8/site-packages (from optuna==3.6.1) (1.20.1)\nRequirement already satisfied: packaging&gt;=20.0 in /databricks/python3/lib/python3.8/site-packages (from optuna==3.6.1) (20.9)\nProcessing /dbfs/FileStore/MotorPL_Analytics/py-wheels/SQLAlchemy-2.0.31-py3-none-any.whl (from optuna==3.6.1)\nProcessing /dbfs/FileStore/MotorPL_Analytics/py-wheels/tqdm-4.66.5-py3-none-any.whl (from optuna==3.6.1)\nProcessing /dbfs/FileStore/MotorPL_Analytics/py-wheels/PyYAML-6.0.2-cp38-cp38-manylinux_2_17_x86_64.manylinux2014_x86_64.whl (from optuna==3.6.1)\nProcessing /dbfs/FileStore/MotorPL_Analytics/py-wheels/Mako-1.3.5-py3-none-any.whl (from alembic&gt;=1.5.0-&gt;optuna==3.6.1)\nRequirement already satisfied: typing-extensions&gt;=4 in /local_disk0/.ephemeral_nfs/envs/pythonEnv-c5fe2c36-7eb9-4ce4-8899-94e3ad2088b7/lib/python3.8/site-packages (from alembic&gt;=1.5.0-&gt;optuna==3.6.1) (4.12.2)\nRequirement already satisfied: importlib-metadata in /local_disk0/.ephemeral_nfs/envs/pythonEnv-c5fe2c36-7eb9-4ce4-8899-94e3ad2088b7/lib/python3.8/site-packages (from alembic&gt;=1.5.0-&gt;optuna==3.6.1) (8.0.0)\nProcessing /dbfs/FileStore/MotorPL_Analytics/py-wheels/importlib_resources-6.4.0-py3-none-any.whl (from alembic&gt;=1.5.0-&gt;optuna==3.6.1)\nRequirement already satisfied: pyparsing&gt;=2.0.2 in /local_disk0/.ephemeral_nfs/envs/pythonEnv-c5fe2c36-7eb9-4ce4-8899-94e3ad2088b7/lib/python3.8/site-packages (from packaging&gt;=20.0-&gt;optuna==3.6.1) (3.1.2)\nProcessing /dbfs/FileStore/MotorPL_Analytics/py-wheels/greenlet-1.1.3.post0-cp38-cp38-manylinux1_x86_64.whl (from sqlalchemy&gt;=1.3.0-&gt;optuna==3.6.1)\nRequirement already satisfied: zipp&gt;=0.5 in /local_disk0/.ephemeral_nfs/envs/pythonEnv-c5fe2c36-7eb9-4ce4-8899-94e3ad2088b7/lib/python3.8/site-packages (from importlib-metadata-&gt;alembic&gt;=1.5.0-&gt;optuna==3.6.1) (3.19.2)\nRequirement already satisfied: MarkupSafe&gt;=0.9.2 in /local_disk0/.ephemeral_nfs/envs/pythonEnv-c5fe2c36-7eb9-4ce4-8899-94e3ad2088b7/lib/python3.8/site-packages (from Mako-&gt;alembic&gt;=1.5.0-&gt;optuna==3.6.1) (2.1.5)\nWARNING: Error parsing dependencies of pyzmq: Invalid version: &#39;cpython&#39;\nInstalling collected packages: tqdm, PyYAML, Mako, importlib-resources, greenlet, colorlog, sqlalchemy, alembic, optuna\nSuccessfully installed Mako-1.3.5 PyYAML-6.0.2 alembic-1.13.2 colorlog-6.8.2 greenlet-1.1.3.post0 importlib-resources-6.4.0 optuna-3.6.1 sqlalchemy-2.0.31 tqdm-4.66.5\nPython interpreter will be restarted.\n</div>",
       "datasetInfos": [],
       "metadata": {},
       "removedWidgets": [],
       "type": "html"
      }
     },
     "output_type": "display_data"
    }
   ],
   "source": [
    "## update pip\n",
    "%pip install --upgrade /dbfs/FileStore/MotorPL_Analytics/py-wheels/pip-24.1.1-py3-none-any.whl --no-index --find-links /dbfs/FileStore/MotorPL_Analytics/py-wheels\n",
    "\n",
    "## update sklearn\n",
    "%pip install --upgrade /dbfs/FileStore/MotorPL_Analytics/py-wheels/scikit_learn-1.3.2-cp38-cp38-manylinux_2_17_x86_64.manylinux2014_x86_64.whl  --no-index --find-links /dbfs/FileStore/MotorPL_Analytics/py-wheels\n",
    "\n",
    "## tensorflow\n",
    "%pip install /dbfs/FileStore/MotorPL_Analytics/py-wheels/tensorflow-2.11.1-cp38-cp38-manylinux_2_17_x86_64.manylinux2014_x86_64.whl --no-index --find-links /dbfs/FileStore/MotorPL_Analytics/py-wheels\n",
    "\n",
    "## pydot\n",
    "%pip install /dbfs/FileStore/MotorPL_Analytics/py-wheels/pydot-2.0.0-py3-none-any.whl --no-index --find-links /dbfs/FileStore/MotorPL_Analytics/py-wheels\n",
    "\n",
    "## optuna\n",
    "%pip install /dbfs/FileStore/MotorPL_Analytics/py-wheels/optuna-3.6.1-py3-none-any.whl --no-index --find-links /dbfs/FileStore/MotorPL_Analytics/py-wheels"
   ]
  },
  {
   "cell_type": "code",
   "execution_count": 1,
   "metadata": {
    "application/vnd.databricks.v1+cell": {
     "cellMetadata": {
      "byteLimit": 2048000,
      "rowLimit": 10000
     },
     "inputWidgets": {},
     "nuid": "28baa8ab-f24f-47e4-b0d4-e68239f88e64",
     "showTitle": false,
     "tableResultSettingsMap": {},
     "title": ""
    }
   },
   "outputs": [
    {
     "name": "stderr",
     "output_type": "stream",
     "text": [
      "2025-01-05 16:09:02.458914: I tensorflow/core/platform/cpu_feature_guard.cc:182] This TensorFlow binary is optimized to use available CPU instructions in performance-critical operations.\n",
      "To enable the following instructions: AVX2 FMA, in other operations, rebuild TensorFlow with the appropriate compiler flags.\n"
     ]
    }
   ],
   "source": [
    "import numpy as np\n",
    "from tensorflow import keras \n",
    "from matplotlib import pyplot as plt\n",
    "\n",
    "import pandas as pd\n",
    "\n",
    "\n",
    "from sklearn.preprocessing import OrdinalEncoder, OneHotEncoder, PowerTransformer, MinMaxScaler\n",
    "\n",
    "from sklearn.compose import ColumnTransformer\n",
    "\n",
    "from sklearn.pipeline import make_pipeline\n",
    "\n",
    "from sklearn.impute import SimpleImputer"
   ]
  },
  {
   "cell_type": "code",
   "execution_count": 2,
   "metadata": {
    "application/vnd.databricks.v1+cell": {
     "cellMetadata": {
      "byteLimit": 2048000,
      "rowLimit": 10000
     },
     "inputWidgets": {},
     "nuid": "7a8af38a-1789-4326-875a-85d817fb416f",
     "showTitle": false,
     "tableResultSettingsMap": {},
     "title": ""
    }
   },
   "outputs": [],
   "source": [
    "import importlib, sys\n",
    "from autoencoder import *"
   ]
  },
  {
   "cell_type": "code",
   "execution_count": 3,
   "metadata": {
    "application/vnd.databricks.v1+cell": {
     "cellMetadata": {
      "byteLimit": 2048000,
      "rowLimit": 10000
     },
     "inputWidgets": {},
     "nuid": "df80dad3-297d-4263-b0fd-efacc717235e",
     "showTitle": false,
     "tableResultSettingsMap": {},
     "title": ""
    }
   },
   "outputs": [
    {
     "data": {
      "text/plain": [
       "<module 'autoencoder' from '/Users/andre/andre-two/talks-in-maths/202412/autoencoder.py'>"
      ]
     },
     "execution_count": 3,
     "metadata": {},
     "output_type": "execute_result"
    }
   ],
   "source": [
    "importlib.reload(sys.modules['autoencoder'])"
   ]
  },
  {
   "cell_type": "markdown",
   "metadata": {
    "application/vnd.databricks.v1+cell": {
     "cellMetadata": {
      "byteLimit": 2048000,
      "rowLimit": 10000
     },
     "inputWidgets": {},
     "nuid": "85860855-abdb-4c75-aa15-288efb5f21fb",
     "showTitle": false,
     "tableResultSettingsMap": {},
     "title": ""
    }
   },
   "source": [
    "# carrega dados"
   ]
  },
  {
   "cell_type": "code",
   "execution_count": 4,
   "metadata": {
    "application/vnd.databricks.v1+cell": {
     "cellMetadata": {
      "byteLimit": 2048000,
      "rowLimit": 10000
     },
     "inputWidgets": {},
     "nuid": "0092812a-428f-48af-a251-2f080f7cdd54",
     "showTitle": false,
     "tableResultSettingsMap": {},
     "title": ""
    }
   },
   "outputs": [
    {
     "name": "stderr",
     "output_type": "stream",
     "text": [
      "/var/folders/1t/6jgb65b505x87sk1xs2jndtr0000gn/T/ipykernel_7037/3901038887.py:1: DtypeWarning: Columns (120,128,130,138,139,140,141,147,149) have mixed types. Specify dtype option on import or set low_memory=False.\n",
      "  molicar = pd.read_csv('inteligencia-molicar-carimbado.csv', sep = ';')\n"
     ]
    }
   ],
   "source": [
    "molicar = pd.read_csv('inteligencia-molicar-carimbado.csv', sep = ';')"
   ]
  },
  {
   "cell_type": "code",
   "execution_count": 5,
   "metadata": {
    "application/vnd.databricks.v1+cell": {
     "cellMetadata": {
      "byteLimit": 2048000,
      "rowLimit": 10000
     },
     "inputWidgets": {},
     "nuid": "10ff3463-d9ff-48a3-914e-00bd4fb9b14f",
     "showTitle": false,
     "tableResultSettingsMap": {},
     "title": ""
    }
   },
   "outputs": [],
   "source": [
    "de_para_fipe_grupo = molicar[['FIPE', 'COD GRUPO']].drop_duplicates().sort_values('FIPE')\n",
    "\n",
    "de_para_fipe_grupo['FIPE'] = de_para_fipe_grupo['FIPE'].astype(str)\n",
    "de_para_fipe_grupo['COD GRUPO'] = de_para_fipe_grupo['COD GRUPO'].astype(str)"
   ]
  },
  {
   "cell_type": "code",
   "execution_count": 6,
   "metadata": {
    "application/vnd.databricks.v1+cell": {
     "cellMetadata": {
      "byteLimit": 2048000,
      "rowLimit": 10000
     },
     "inputWidgets": {},
     "nuid": "209a0278-ab73-45d9-b4f7-7801f487cc31",
     "showTitle": false,
     "tableResultSettingsMap": {},
     "title": ""
    }
   },
   "outputs": [],
   "source": [
    "# de_para_fipe_grupo.to_parquet('/Workspace/Repos/andre.antunes@br.zurich.com/Veiculos/molicar.parquet')"
   ]
  },
  {
   "cell_type": "code",
   "execution_count": 7,
   "metadata": {
    "application/vnd.databricks.v1+cell": {
     "cellMetadata": {
      "byteLimit": 2048000,
      "rowLimit": 10000
     },
     "inputWidgets": {},
     "nuid": "a4e54ddd-1339-453d-9921-04a80608ba49",
     "showTitle": false,
     "tableResultSettingsMap": {},
     "title": ""
    }
   },
   "outputs": [],
   "source": [
    "# molicar.columns.tolist()\n",
    "\n",
    "COLS = ['FILTRO 2', 'CHAVE', 'FIPE', 'FILTRO 1', 'Molicar', 'Fipe', 'Marca', 'Veiculo',\n",
    "        \n",
    "        '0KM','2025','2024','2023','2022','2021','2020','2019','2018','2017','2016','2015','2014','2013','2012','2011','2010',\n",
    "        '2009','2008','2007','2006','2005','2004','2003','2002','2001','2000','1999','1998','1997','1996','1995','1994','1993',\n",
    "        '1992','1991','1990','1989','1988','1987','1986','1985','1984','1983','1982',\n",
    "\n",
    "\n",
    "        'Passageiros', 'Categoria', 'Origem2', 'UF', 'Porte', 'Caracteristica', \n",
    "        'Cod Descritivo', 'Configuracao', 'Origem', 'Portas', 'Peso', 'Carga', \n",
    "        'MotorCC', 'Combustivel', 'CV', 'Cambio', 'Acessorio', 'Inicio', 'Fim', 'Importacao',\n",
    "\n",
    "        'Vidro,Travas Eletricas, ', 'Direcao Hidraulica, ', 'Ar Condicionado, ', \n",
    "        'Cambio Automatica, ', 'Forracao Couro, ', 'Teto Solar, ', 'Freio Abs, ', \n",
    "        'Air Bag, ', 'Roda Liga Leve, ', 'Kit Multimidia, ',\n",
    "\n",
    "\n",
    " 'Descrição Veículo Trabalhado',\n",
    " 'Nacionalidade veiculo',\n",
    " 'Primeira parte veiculo',\n",
    " 'carct',\n",
    " 'segunda parte',\n",
    " 'Veículo Reduzido',\n",
    " 'Nome Reduzido2',\n",
    " 'CAMBIO DEPARA',\n",
    " 'NOVO COMBUSTIVEL',\n",
    " 'Air Bag, .1',\n",
    " 'Ar Condicionado, .1',\n",
    " 'Direcao Hidraulica, .1',\n",
    " 'Freio Abs, .1',\n",
    " 'Cambio Automatica, .1',\n",
    " 'Total Opcionais',\n",
    " 'Marca COM Motos',\n",
    " 'Nome Modelo Corrigido',\n",
    " 'depara veic import',\n",
    " 'depara veic impot2',\n",
    " 'depara veic impot3',\n",
    " '1',\n",
    " '2',\n",
    " '3',\n",
    " '4',\n",
    " '5',\n",
    " 'CHAVE GRUPO',\n",
    " 'CHAVE.1',\n",
    " 'SCORE GRUPO',\n",
    " 'SCORE REDUZIDO',\n",
    " 'Configuração Caminhao',\n",
    " 'Filtro nacionalidade',\n",
    " 'CHAVE.2',\n",
    " 'Nacional',\n",
    " 'Importado',\n",
    " 'Total',\n",
    " 'Filtro Nacionalidade',\n",
    " 'Chave  categoria',\n",
    " 'Cod categoria original',\n",
    " 'ChaveFURGAO/VAN',\n",
    " 'Categ',\n",
    " 'cod FURGAO/VAN',\n",
    " 'depra FURGAO',\n",
    " 'NOME GRUPO_ORIGINAL',\n",
    " 'Cod Marca',\n",
    " 'ESTUDO',\n",
    " 'COD GRUPO_ORGINAL',\n",
    " 'NOME GRUPO',\n",
    " 'COD GRUPO',\n",
    " 'CHAVE.3',\n",
    " 'Categ. Chave',\n",
    " 'Domìnio',\n",
    " 'Tratamento',\n",
    " 'Molicar Básico',\n",
    " 'Molicar Completo',\n",
    " 'Molicar Blindado',\n",
    " 'Caracteristica Moto',\n",
    " 'CC nova',\n",
    " 'ESTILO FINAL',\n",
    " 'GRUPO MOTO',\n",
    " 'Data inclusão molicar',\n",
    " 'Data revisão',\n",
    " '24/06/2024',\n",
    " 'FIPE_MOLICAR Semanal',\n",
    " 'FIPE OK?',\n",
    " 'OBSERVAÇÃO',\n",
    " 'Grupo Revisão/Antigo',\n",
    " 'Nome do grupo Anterior',\n",
    " 'valor 2024',\n",
    " 'REGRA HILUX']"
   ]
  },
  {
   "cell_type": "code",
   "execution_count": 8,
   "metadata": {
    "application/vnd.databricks.v1+cell": {
     "cellMetadata": {
      "byteLimit": 2048000,
      "rowLimit": 10000
     },
     "inputWidgets": {},
     "nuid": "98d21696-f7b1-4073-94e3-f08c5a1ef716",
     "showTitle": false,
     "tableResultSettingsMap": {},
     "title": ""
    }
   },
   "outputs": [
    {
     "data": {
      "text/html": [
       "<div>\n",
       "<style scoped>\n",
       "    .dataframe tbody tr th:only-of-type {\n",
       "        vertical-align: middle;\n",
       "    }\n",
       "\n",
       "    .dataframe tbody tr th {\n",
       "        vertical-align: top;\n",
       "    }\n",
       "\n",
       "    .dataframe thead th {\n",
       "        text-align: right;\n",
       "    }\n",
       "</style>\n",
       "<table border=\"1\" class=\"dataframe\">\n",
       "  <thead>\n",
       "    <tr style=\"text-align: right;\">\n",
       "      <th></th>\n",
       "      <th>FILTRO 2</th>\n",
       "      <th>CHAVE</th>\n",
       "      <th>FIPE</th>\n",
       "      <th>FILTRO 1</th>\n",
       "      <th>Molicar</th>\n",
       "      <th>Fipe</th>\n",
       "      <th>Marca</th>\n",
       "      <th>Veiculo</th>\n",
       "      <th>CHAVE GRUPO</th>\n",
       "      <th>CHAVE.1</th>\n",
       "      <th>COD GRUPO</th>\n",
       "    </tr>\n",
       "  </thead>\n",
       "  <tbody>\n",
       "    <tr>\n",
       "      <th>10207</th>\n",
       "      <td>Basico</td>\n",
       "      <td>001542-3Basico</td>\n",
       "      <td>001542-3</td>\n",
       "      <td>Basico</td>\n",
       "      <td>01511506-9</td>\n",
       "      <td>001542-3</td>\n",
       "      <td>FIAT</td>\n",
       "      <td>PULSE AUDACE 200 1.0 TB CVT Eta./Gas. 4 (Basico)</td>\n",
       "      <td>PULSE (1000)</td>\n",
       "      <td>PULSE   GRP 3</td>\n",
       "      <td>10055</td>\n",
       "    </tr>\n",
       "    <tr>\n",
       "      <th>10208</th>\n",
       "      <td>Completo</td>\n",
       "      <td>001542-3Completo</td>\n",
       "      <td>001542-3</td>\n",
       "      <td>Completo</td>\n",
       "      <td>01511507-0</td>\n",
       "      <td>001542-3</td>\n",
       "      <td>FIAT</td>\n",
       "      <td>PULSE AUDACE 200 1.0 TB CVT Eta./Gas. 4 (Compl...</td>\n",
       "      <td>PULSE (1000)</td>\n",
       "      <td>PULSE   GRP 3</td>\n",
       "      <td>10055</td>\n",
       "    </tr>\n",
       "    <tr>\n",
       "      <th>10209</th>\n",
       "      <td>Blindado</td>\n",
       "      <td>001542-3Blindado</td>\n",
       "      <td>001542-3</td>\n",
       "      <td>Blindado</td>\n",
       "      <td>01511508-2</td>\n",
       "      <td>001542-3</td>\n",
       "      <td>FIAT</td>\n",
       "      <td>PULSE AUDACE 200 1.0 TB CVT Eta./Gas. 4 (Blind...</td>\n",
       "      <td>PULSE (1000)</td>\n",
       "      <td>PULSE   GRP 3</td>\n",
       "      <td>10055</td>\n",
       "    </tr>\n",
       "    <tr>\n",
       "      <th>10210</th>\n",
       "      <td>Basico</td>\n",
       "      <td>001542-3Basico</td>\n",
       "      <td>001542-3</td>\n",
       "      <td>Basico</td>\n",
       "      <td>01511509-4</td>\n",
       "      <td>001542-3</td>\n",
       "      <td>FIAT</td>\n",
       "      <td>PULSE AUDACE(Connect Me) 200 1.0 TB CVT Eta./G...</td>\n",
       "      <td>PULSE (1000)</td>\n",
       "      <td>PULSE   GRP 3</td>\n",
       "      <td>10055</td>\n",
       "    </tr>\n",
       "    <tr>\n",
       "      <th>10211</th>\n",
       "      <td>Completo</td>\n",
       "      <td>001542-3Completo</td>\n",
       "      <td>001542-3</td>\n",
       "      <td>Completo</td>\n",
       "      <td>01511510-0</td>\n",
       "      <td>001542-3</td>\n",
       "      <td>FIAT</td>\n",
       "      <td>PULSE AUDACE(Connect Me) 200 1.0 TB CVT Eta./G...</td>\n",
       "      <td>PULSE (1000)</td>\n",
       "      <td>PULSE   GRP 3</td>\n",
       "      <td>10055</td>\n",
       "    </tr>\n",
       "    <tr>\n",
       "      <th>10212</th>\n",
       "      <td>Basico</td>\n",
       "      <td>001542-3Basico</td>\n",
       "      <td>001542-3</td>\n",
       "      <td>Basico</td>\n",
       "      <td>01511511-2</td>\n",
       "      <td>001542-3</td>\n",
       "      <td>FIAT</td>\n",
       "      <td>PULSE AUDACE(Design 3) 200 1.0 TB CVT Eta./Gas...</td>\n",
       "      <td>PULSE (1000)</td>\n",
       "      <td>PULSE   GRP 3</td>\n",
       "      <td>10055</td>\n",
       "    </tr>\n",
       "    <tr>\n",
       "      <th>10213</th>\n",
       "      <td>Completo</td>\n",
       "      <td>001542-3Completo</td>\n",
       "      <td>001542-3</td>\n",
       "      <td>Completo</td>\n",
       "      <td>01511512-4</td>\n",
       "      <td>001542-3</td>\n",
       "      <td>FIAT</td>\n",
       "      <td>PULSE AUDACE(Design 3) 200 1.0 TB CVT Eta./Gas...</td>\n",
       "      <td>PULSE (1000)</td>\n",
       "      <td>PULSE   GRP 3</td>\n",
       "      <td>10055</td>\n",
       "    </tr>\n",
       "    <tr>\n",
       "      <th>10237</th>\n",
       "      <td>Basico</td>\n",
       "      <td>001542-3Basico</td>\n",
       "      <td>001542-3</td>\n",
       "      <td>Basico</td>\n",
       "      <td>01511536-7</td>\n",
       "      <td>001542-3</td>\n",
       "      <td>FIAT</td>\n",
       "      <td>PULSE AUDACE(Multimidia) 200 1.0 TB CVT Eta./G...</td>\n",
       "      <td>PULSE (1000)</td>\n",
       "      <td>PULSE   GRP 3</td>\n",
       "      <td>10055</td>\n",
       "    </tr>\n",
       "    <tr>\n",
       "      <th>10238</th>\n",
       "      <td>Completo</td>\n",
       "      <td>001542-3Completo</td>\n",
       "      <td>001542-3</td>\n",
       "      <td>Completo</td>\n",
       "      <td>01511537-9</td>\n",
       "      <td>001542-3</td>\n",
       "      <td>FIAT</td>\n",
       "      <td>PULSE AUDACE(Multimidia) 200 1.0 TB CVT Eta./G...</td>\n",
       "      <td>PULSE (1000)</td>\n",
       "      <td>PULSE   GRP 3</td>\n",
       "      <td>10055</td>\n",
       "    </tr>\n",
       "    <tr>\n",
       "      <th>10248</th>\n",
       "      <td>Basico</td>\n",
       "      <td>001542-3Basico</td>\n",
       "      <td>001542-3</td>\n",
       "      <td>Basico</td>\n",
       "      <td>01511547-1</td>\n",
       "      <td>001542-3</td>\n",
       "      <td>FIAT</td>\n",
       "      <td>PULSE (Safety) AUDACE 200 1.0 TB CVT Eta./Gas....</td>\n",
       "      <td>PULSE (1000)</td>\n",
       "      <td>PULSE   GRP 3</td>\n",
       "      <td>10055</td>\n",
       "    </tr>\n",
       "    <tr>\n",
       "      <th>10249</th>\n",
       "      <td>Completo</td>\n",
       "      <td>001542-3Completo</td>\n",
       "      <td>001542-3</td>\n",
       "      <td>Completo</td>\n",
       "      <td>01511548-3</td>\n",
       "      <td>001542-3</td>\n",
       "      <td>FIAT</td>\n",
       "      <td>PULSE (Safety) AUDACE 200 1.0 TB CVT Eta./Gas....</td>\n",
       "      <td>PULSE (1000)</td>\n",
       "      <td>PULSE   GRP 3</td>\n",
       "      <td>10055</td>\n",
       "    </tr>\n",
       "    <tr>\n",
       "      <th>10253</th>\n",
       "      <td>Basico</td>\n",
       "      <td>001542-3Basico</td>\n",
       "      <td>001542-3</td>\n",
       "      <td>Basico</td>\n",
       "      <td>01511552-5</td>\n",
       "      <td>001542-3</td>\n",
       "      <td>FIAT</td>\n",
       "      <td>PULSE MP1175 AUDACE 200 1.0 TB CVT Eta./Gas. 4...</td>\n",
       "      <td>PULSE (1000)</td>\n",
       "      <td>PULSE   GRP 3</td>\n",
       "      <td>10055</td>\n",
       "    </tr>\n",
       "  </tbody>\n",
       "</table>\n",
       "</div>"
      ],
      "text/plain": [
       "       FILTRO 2             CHAVE      FIPE  FILTRO 1     Molicar      Fipe  \\\n",
       "10207    Basico    001542-3Basico  001542-3    Basico  01511506-9  001542-3   \n",
       "10208  Completo  001542-3Completo  001542-3  Completo  01511507-0  001542-3   \n",
       "10209  Blindado  001542-3Blindado  001542-3  Blindado  01511508-2  001542-3   \n",
       "10210    Basico    001542-3Basico  001542-3    Basico  01511509-4  001542-3   \n",
       "10211  Completo  001542-3Completo  001542-3  Completo  01511510-0  001542-3   \n",
       "10212    Basico    001542-3Basico  001542-3    Basico  01511511-2  001542-3   \n",
       "10213  Completo  001542-3Completo  001542-3  Completo  01511512-4  001542-3   \n",
       "10237    Basico    001542-3Basico  001542-3    Basico  01511536-7  001542-3   \n",
       "10238  Completo  001542-3Completo  001542-3  Completo  01511537-9  001542-3   \n",
       "10248    Basico    001542-3Basico  001542-3    Basico  01511547-1  001542-3   \n",
       "10249  Completo  001542-3Completo  001542-3  Completo  01511548-3  001542-3   \n",
       "10253    Basico    001542-3Basico  001542-3    Basico  01511552-5  001542-3   \n",
       "\n",
       "      Marca                                            Veiculo   CHAVE GRUPO  \\\n",
       "10207  FIAT   PULSE AUDACE 200 1.0 TB CVT Eta./Gas. 4 (Basico)  PULSE (1000)   \n",
       "10208  FIAT  PULSE AUDACE 200 1.0 TB CVT Eta./Gas. 4 (Compl...  PULSE (1000)   \n",
       "10209  FIAT  PULSE AUDACE 200 1.0 TB CVT Eta./Gas. 4 (Blind...  PULSE (1000)   \n",
       "10210  FIAT  PULSE AUDACE(Connect Me) 200 1.0 TB CVT Eta./G...  PULSE (1000)   \n",
       "10211  FIAT  PULSE AUDACE(Connect Me) 200 1.0 TB CVT Eta./G...  PULSE (1000)   \n",
       "10212  FIAT  PULSE AUDACE(Design 3) 200 1.0 TB CVT Eta./Gas...  PULSE (1000)   \n",
       "10213  FIAT  PULSE AUDACE(Design 3) 200 1.0 TB CVT Eta./Gas...  PULSE (1000)   \n",
       "10237  FIAT  PULSE AUDACE(Multimidia) 200 1.0 TB CVT Eta./G...  PULSE (1000)   \n",
       "10238  FIAT  PULSE AUDACE(Multimidia) 200 1.0 TB CVT Eta./G...  PULSE (1000)   \n",
       "10248  FIAT  PULSE (Safety) AUDACE 200 1.0 TB CVT Eta./Gas....  PULSE (1000)   \n",
       "10249  FIAT  PULSE (Safety) AUDACE 200 1.0 TB CVT Eta./Gas....  PULSE (1000)   \n",
       "10253  FIAT  PULSE MP1175 AUDACE 200 1.0 TB CVT Eta./Gas. 4...  PULSE (1000)   \n",
       "\n",
       "              CHAVE.1 COD GRUPO  \n",
       "10207   PULSE   GRP 3     10055  \n",
       "10208   PULSE   GRP 3     10055  \n",
       "10209   PULSE   GRP 3     10055  \n",
       "10210   PULSE   GRP 3     10055  \n",
       "10211   PULSE   GRP 3     10055  \n",
       "10212   PULSE   GRP 3     10055  \n",
       "10213   PULSE   GRP 3     10055  \n",
       "10237   PULSE   GRP 3     10055  \n",
       "10238   PULSE   GRP 3     10055  \n",
       "10248   PULSE   GRP 3     10055  \n",
       "10249   PULSE   GRP 3     10055  \n",
       "10253   PULSE   GRP 3     10055  "
      ]
     },
     "execution_count": 8,
     "metadata": {},
     "output_type": "execute_result"
    }
   ],
   "source": [
    "molicar[['FILTRO 2', 'CHAVE', 'FIPE', 'FILTRO 1', 'Molicar', 'Fipe', 'Marca', 'Veiculo', 'CHAVE GRUPO', 'CHAVE.1', 'COD GRUPO',]][molicar['FIPE'] == '001542-3']"
   ]
  },
  {
   "cell_type": "code",
   "execution_count": 9,
   "metadata": {
    "application/vnd.databricks.v1+cell": {
     "cellMetadata": {
      "byteLimit": 2048000,
      "rowLimit": 10000
     },
     "inputWidgets": {},
     "nuid": "5b3b4c2f-2434-493b-9692-80d56539d464",
     "showTitle": false,
     "tableResultSettingsMap": {},
     "title": ""
    }
   },
   "outputs": [],
   "source": [
    "# molicar[['Nome Reduzido2', 'Marca', 'Passageiros', 'Categoria', 'Origem2', 'Porte', 'Caracteristica', \n",
    "#         'Configuracao', 'Origem', 'Portas', 'Peso', 'Carga', \n",
    "#         'MotorCC', 'Combustivel', 'CV', 'Cambio', 'Acessorio', 'Inicio', 'Fim', 'Importacao',\n",
    "\n",
    "#         'Vidro,Travas Eletricas, ', 'Direcao Hidraulica, ', 'Ar Condicionado, ', \n",
    "#         'Cambio Automatica, ', 'Forracao Couro, ', 'Teto Solar, ', 'Freio Abs, ', \n",
    "#         'Air Bag, ', 'Roda Liga Leve, ', 'Kit Multimidia, ',]]"
   ]
  },
  {
   "cell_type": "code",
   "execution_count": 10,
   "metadata": {
    "application/vnd.databricks.v1+cell": {
     "cellMetadata": {
      "byteLimit": 2048000,
      "rowLimit": 10000
     },
     "inputWidgets": {},
     "nuid": "d8b8aae2-c4a5-4339-8aef-4347a7930479",
     "showTitle": false,
     "tableResultSettingsMap": {},
     "title": ""
    }
   },
   "outputs": [
    {
     "data": {
      "text/html": [
       "<div>\n",
       "<style scoped>\n",
       "    .dataframe tbody tr th:only-of-type {\n",
       "        vertical-align: middle;\n",
       "    }\n",
       "\n",
       "    .dataframe tbody tr th {\n",
       "        vertical-align: top;\n",
       "    }\n",
       "\n",
       "    .dataframe thead th {\n",
       "        text-align: right;\n",
       "    }\n",
       "</style>\n",
       "<table border=\"1\" class=\"dataframe\">\n",
       "  <thead>\n",
       "    <tr style=\"text-align: right;\">\n",
       "      <th></th>\n",
       "      <th>tipo_modelo</th>\n",
       "      <th>marca</th>\n",
       "      <th>passageiros</th>\n",
       "      <th>categoria</th>\n",
       "      <th>porte</th>\n",
       "      <th>caracteristica</th>\n",
       "      <th>configuracao</th>\n",
       "      <th>portas</th>\n",
       "      <th>peso</th>\n",
       "      <th>carga</th>\n",
       "      <th>...</th>\n",
       "      <th>vidro_travas_eletricas</th>\n",
       "      <th>direcao_hidraulica</th>\n",
       "      <th>ar_condicionado</th>\n",
       "      <th>cambio_automatico</th>\n",
       "      <th>forracao_couro</th>\n",
       "      <th>teto_solar</th>\n",
       "      <th>freio_abs</th>\n",
       "      <th>air_bag</th>\n",
       "      <th>roda_liga_leve</th>\n",
       "      <th>kit_multimidia</th>\n",
       "    </tr>\n",
       "  </thead>\n",
       "  <tbody>\n",
       "    <tr>\n",
       "      <th>0</th>\n",
       "      <td>1</td>\n",
       "      <td>AGRALE</td>\n",
       "      <td>3</td>\n",
       "      <td>Caminhao</td>\n",
       "      <td>Peq</td>\n",
       "      <td>Carga</td>\n",
       "      <td>Caminhao Leve</td>\n",
       "      <td>2</td>\n",
       "      <td>1800</td>\n",
       "      <td>2000</td>\n",
       "      <td>...</td>\n",
       "      <td>ND</td>\n",
       "      <td>ND</td>\n",
       "      <td>ND</td>\n",
       "      <td>ND</td>\n",
       "      <td>ND</td>\n",
       "      <td>ND</td>\n",
       "      <td>ND</td>\n",
       "      <td>ND</td>\n",
       "      <td>ND</td>\n",
       "      <td>ND</td>\n",
       "    </tr>\n",
       "    <tr>\n",
       "      <th>1</th>\n",
       "      <td>1</td>\n",
       "      <td>AGRALE</td>\n",
       "      <td>3</td>\n",
       "      <td>Caminhao</td>\n",
       "      <td>Peq</td>\n",
       "      <td>Carga</td>\n",
       "      <td>Caminhao Leve</td>\n",
       "      <td>2</td>\n",
       "      <td>1300</td>\n",
       "      <td>2000</td>\n",
       "      <td>...</td>\n",
       "      <td>ND</td>\n",
       "      <td>ND</td>\n",
       "      <td>ND</td>\n",
       "      <td>ND</td>\n",
       "      <td>ND</td>\n",
       "      <td>ND</td>\n",
       "      <td>ND</td>\n",
       "      <td>ND</td>\n",
       "      <td>ND</td>\n",
       "      <td>ND</td>\n",
       "    </tr>\n",
       "    <tr>\n",
       "      <th>2</th>\n",
       "      <td>1</td>\n",
       "      <td>AGRALE</td>\n",
       "      <td>3</td>\n",
       "      <td>Caminhao</td>\n",
       "      <td>Peq</td>\n",
       "      <td>Carga</td>\n",
       "      <td>Caminhao Leve</td>\n",
       "      <td>2</td>\n",
       "      <td>2000</td>\n",
       "      <td>2000</td>\n",
       "      <td>...</td>\n",
       "      <td>ND</td>\n",
       "      <td>ND</td>\n",
       "      <td>ND</td>\n",
       "      <td>ND</td>\n",
       "      <td>ND</td>\n",
       "      <td>ND</td>\n",
       "      <td>ND</td>\n",
       "      <td>ND</td>\n",
       "      <td>ND</td>\n",
       "      <td>ND</td>\n",
       "    </tr>\n",
       "    <tr>\n",
       "      <th>3</th>\n",
       "      <td>1</td>\n",
       "      <td>AGRALE</td>\n",
       "      <td>3</td>\n",
       "      <td>Caminhao</td>\n",
       "      <td>Peq</td>\n",
       "      <td>Carga</td>\n",
       "      <td>Caminhao Leve</td>\n",
       "      <td>2</td>\n",
       "      <td>1500</td>\n",
       "      <td>2000</td>\n",
       "      <td>...</td>\n",
       "      <td>ND</td>\n",
       "      <td>ND</td>\n",
       "      <td>ND</td>\n",
       "      <td>ND</td>\n",
       "      <td>ND</td>\n",
       "      <td>ND</td>\n",
       "      <td>ND</td>\n",
       "      <td>ND</td>\n",
       "      <td>ND</td>\n",
       "      <td>ND</td>\n",
       "    </tr>\n",
       "    <tr>\n",
       "      <th>4</th>\n",
       "      <td>4</td>\n",
       "      <td>AGRALE</td>\n",
       "      <td>3</td>\n",
       "      <td>Caminhao</td>\n",
       "      <td>Peq</td>\n",
       "      <td>Carga</td>\n",
       "      <td>Caminhao Leve</td>\n",
       "      <td>2</td>\n",
       "      <td>2830</td>\n",
       "      <td>2500</td>\n",
       "      <td>...</td>\n",
       "      <td>ND</td>\n",
       "      <td>ND</td>\n",
       "      <td>ND</td>\n",
       "      <td>ND</td>\n",
       "      <td>ND</td>\n",
       "      <td>ND</td>\n",
       "      <td>ND</td>\n",
       "      <td>ND</td>\n",
       "      <td>ND</td>\n",
       "      <td>ND</td>\n",
       "    </tr>\n",
       "  </tbody>\n",
       "</table>\n",
       "<p>5 rows × 28 columns</p>\n",
       "</div>"
      ],
      "text/plain": [
       "  tipo_modelo   marca  passageiros categoria porte caracteristica  \\\n",
       "0           1  AGRALE            3  Caminhao   Peq          Carga   \n",
       "1           1  AGRALE            3  Caminhao   Peq          Carga   \n",
       "2           1  AGRALE            3  Caminhao   Peq          Carga   \n",
       "3           1  AGRALE            3  Caminhao   Peq          Carga   \n",
       "4           4  AGRALE            3  Caminhao   Peq          Carga   \n",
       "\n",
       "    configuracao  portas  peso  carga  ...  vidro_travas_eletricas  \\\n",
       "0  Caminhao Leve       2  1800   2000  ...                      ND   \n",
       "1  Caminhao Leve       2  1300   2000  ...                      ND   \n",
       "2  Caminhao Leve       2  2000   2000  ...                      ND   \n",
       "3  Caminhao Leve       2  1500   2000  ...                      ND   \n",
       "4  Caminhao Leve       2  2830   2500  ...                      ND   \n",
       "\n",
       "  direcao_hidraulica  ar_condicionado cambio_automatico forracao_couro  \\\n",
       "0                 ND               ND                ND             ND   \n",
       "1                 ND               ND                ND             ND   \n",
       "2                 ND               ND                ND             ND   \n",
       "3                 ND               ND                ND             ND   \n",
       "4                 ND               ND                ND             ND   \n",
       "\n",
       "   teto_solar  freio_abs air_bag roda_liga_leve kit_multimidia  \n",
       "0          ND         ND      ND             ND             ND  \n",
       "1          ND         ND      ND             ND             ND  \n",
       "2          ND         ND      ND             ND             ND  \n",
       "3          ND         ND      ND             ND             ND  \n",
       "4          ND         ND      ND             ND             ND  \n",
       "\n",
       "[5 rows x 28 columns]"
      ]
     },
     "execution_count": 10,
     "metadata": {},
     "output_type": "execute_result"
    }
   ],
   "source": [
    "molicar_feats = molicar[['Nome Reduzido2', 'Marca', 'Passageiros', 'Categoria', 'Porte', 'Caracteristica', \n",
    "        'Configuracao', 'Portas', 'Peso', 'Carga', \n",
    "        'MotorCC', 'Combustivel', 'CV', 'Cambio', 'Acessorio', 'Inicio', 'Fim', 'Importacao',\n",
    "\n",
    "        'Vidro,Travas Eletricas, ', 'Direcao Hidraulica, ', 'Ar Condicionado, ', \n",
    "        'Cambio Automatica, ', 'Forracao Couro, ', 'Teto Solar, ', 'Freio Abs, ', \n",
    "        'Air Bag, ', 'Roda Liga Leve, ', 'Kit Multimidia, ',]].copy()\n",
    "\n",
    "molicar_feats.rename(columns={'Nome Reduzido2' : 'tipo_modelo', \n",
    "                              'Marca' : 'marca', \n",
    "                              'Passageiros' : 'passageiros', \n",
    "                              'Categoria' : 'categoria',\n",
    "                              'Porte' : 'porte',\n",
    "                              'Caracteristica' : 'caracteristica',\n",
    "                              'Configuracao' : 'configuracao',\n",
    "                              'Portas' : 'portas',\n",
    "                              'Peso' : 'peso',\n",
    "                              'Carga' : 'carga',\n",
    "                              'MotorCC' : 'motor_cc',\n",
    "                              'Combustivel' : 'combustivel',\n",
    "                              'CV' : 'cv',\n",
    "                              'Cambio' : 'cambio',\n",
    "                              'Acessorio' : 'acessorio',\n",
    "                              'Inicio' : 'ano_inicio',\n",
    "                              'Fim' : 'ano_fim',\n",
    "                              'Importacao' : 'importacao',\n",
    "                              \n",
    "                              'Vidro,Travas Eletricas, ' : 'vidro_travas_eletricas', \n",
    "                              'Direcao Hidraulica, ' : 'direcao_hidraulica', \n",
    "                              'Ar Condicionado, ' : 'ar_condicionado',\n",
    "                              'Cambio Automatica, ' : 'cambio_automatico', \n",
    "                              'Forracao Couro, ' : 'forracao_couro', \n",
    "                              'Teto Solar, ' : 'teto_solar',\n",
    "                              'Freio Abs, ' : 'freio_abs',\n",
    "                              'Air Bag, ' : 'air_bag',\n",
    "                              'Roda Liga Leve, ' : 'roda_liga_leve', \n",
    "                              'Kit Multimidia, ' : 'kit_multimidia'\n",
    "                              }, inplace=True)\n",
    "\n",
    "molicar_feats.head()"
   ]
  },
  {
   "cell_type": "code",
   "execution_count": 11,
   "metadata": {
    "application/vnd.databricks.v1+cell": {
     "cellMetadata": {
      "byteLimit": 2048000,
      "rowLimit": 10000
     },
     "inputWidgets": {},
     "nuid": "f50658b0-6f7f-41ec-a4de-f64f6517e0b4",
     "showTitle": false,
     "tableResultSettingsMap": {},
     "title": ""
    }
   },
   "outputs": [
    {
     "name": "stdout",
     "output_type": "stream",
     "text": [
      "['Caminhao' 'Motocicleta' 'Onibus' 'Utilitario' 'Automovel' 'Implemento']\n",
      "Caminhao\n",
      "tipo_modelo\n",
      "R                395\n",
      "P                271\n",
      "1                253\n",
      "CARGO            237\n",
      "CONSTELLATION    228\n",
      "Name: count, dtype: int64\n",
      "\n",
      "Motocicleta\n",
      "tipo_modelo\n",
      "SOFTAIL          106\n",
      "1200 GS          101\n",
      "ROYAL ENFIELD     91\n",
      "TOURING           66\n",
      "NINJA 1000        43\n",
      "Name: count, dtype: int64\n",
      "\n",
      "Onibus\n",
      "tipo_modelo\n",
      "VOLARE        375\n",
      "CLASSE O      136\n",
      "RODOVIARIO    114\n",
      "CLASSE OF     110\n",
      "URBANO        102\n",
      "Name: count, dtype: int64\n",
      "\n",
      "Utilitario\n",
      "tipo_modelo\n",
      "STRADA         621\n",
      "S10            397\n",
      "TORO           387\n",
      "DISCOVERY      327\n",
      "RANGE ROVER    326\n",
      "Name: count, dtype: int64\n",
      "\n",
      "Automovel\n",
      "tipo_modelo\n",
      "GOL       836\n",
      "PALIO     676\n",
      "UNO       669\n",
      "FOX       427\n",
      "FIESTA    391\n",
      "Name: count, dtype: int64\n",
      "\n",
      "Implemento\n",
      "tipo_modelo\n",
      "FURGAO        82\n",
      "TANQUE        55\n",
      "CARREGA       45\n",
      "TRAILER       43\n",
      "BASCULANTE    36\n",
      "Name: count, dtype: int64\n",
      "\n"
     ]
    }
   ],
   "source": [
    "print(molicar_feats['categoria'].unique())\n",
    "for c in molicar_feats['categoria'].unique():\n",
    "    print(c)\n",
    "    print(molicar_feats[molicar_feats['categoria'] == c]['tipo_modelo'].value_counts().head(5))\n",
    "    print(\"\")"
   ]
  },
  {
   "cell_type": "code",
   "execution_count": 12,
   "metadata": {
    "application/vnd.databricks.v1+cell": {
     "cellMetadata": {
      "byteLimit": 2048000,
      "rowLimit": 10000
     },
     "inputWidgets": {},
     "nuid": "e0462a79-9101-4f91-9b6f-b0f06bcedf30",
     "showTitle": false,
     "tableResultSettingsMap": {},
     "title": ""
    }
   },
   "outputs": [],
   "source": [
    "automovel = molicar_feats[molicar_feats['categoria'] == 'Automovel'].drop(columns = 'categoria').copy()\n",
    "\n",
    "# automovel.head()"
   ]
  },
  {
   "cell_type": "code",
   "execution_count": 13,
   "metadata": {
    "application/vnd.databricks.v1+cell": {
     "cellMetadata": {
      "byteLimit": 2048000,
      "rowLimit": 10000
     },
     "inputWidgets": {},
     "nuid": "6e429931-368c-4040-b1bc-fe6c64220720",
     "showTitle": false,
     "tableResultSettingsMap": {},
     "title": ""
    }
   },
   "outputs": [
    {
     "data": {
      "text/plain": [
       "['tipo_modelo',\n",
       " 'marca',\n",
       " 'passageiros',\n",
       " 'porte',\n",
       " 'caracteristica',\n",
       " 'configuracao',\n",
       " 'portas',\n",
       " 'peso',\n",
       " 'carga',\n",
       " 'motor_cc',\n",
       " 'combustivel',\n",
       " 'cv',\n",
       " 'cambio',\n",
       " 'acessorio',\n",
       " 'ano_inicio',\n",
       " 'ano_fim',\n",
       " 'importacao',\n",
       " 'vidro_travas_eletricas',\n",
       " 'direcao_hidraulica',\n",
       " 'ar_condicionado',\n",
       " 'cambio_automatico',\n",
       " 'forracao_couro',\n",
       " 'teto_solar',\n",
       " 'freio_abs',\n",
       " 'air_bag',\n",
       " 'roda_liga_leve',\n",
       " 'kit_multimidia']"
      ]
     },
     "execution_count": 13,
     "metadata": {},
     "output_type": "execute_result"
    }
   ],
   "source": [
    "automovel.columns.tolist()\n",
    "\n",
    "# 'passageiros',\n",
    "# 'portas',\n",
    "# 'peso',\n",
    "# 'carga',\n",
    "# 'motor_cc',\n",
    "# 'cv',\n",
    "# 'ano_inicio',\n",
    "# 'ano_fim',\n",
    "\n",
    "\n",
    "# ohe\n",
    "# 'importacao',\n",
    "# 'acessorio',\n",
    "# 'cambio',\n",
    "# 'caracteristica',\n",
    "# 'configuracao',\n",
    "# 'marca',\n",
    "# 'tipo_modelo',\n",
    "# 'combustivel', ok\n",
    "\n",
    "\n",
    "# ordinal\n",
    "# 'vidro_travas_eletricas', ok\n",
    "# 'direcao_hidraulica', ok\n",
    "# 'ar_condicionado', ok\n",
    "# 'cambio_automatico', ok\n",
    "# 'forracao_couro', ok\n",
    "# 'teto_solar', ok\n",
    "# 'freio_abs', ok \n",
    "# 'air_bag', ok\n",
    "# 'roda_liga_leve', ok\n",
    "# 'kit_multimidia' ok\n",
    "\n",
    "# 'porte', ok"
   ]
  },
  {
   "cell_type": "code",
   "execution_count": 14,
   "metadata": {
    "application/vnd.databricks.v1+cell": {
     "cellMetadata": {
      "byteLimit": 2048000,
      "rowLimit": 10000
     },
     "inputWidgets": {},
     "nuid": "5c7eea2e-778a-4208-a179-3afb929acded",
     "showTitle": true,
     "tableResultSettingsMap": {},
     "title": "ajusta combustivel"
    }
   },
   "outputs": [],
   "source": [
    "automovel['comb_dies'] = np.where(automovel['combustivel'].apply(lambda x: 'Dies' in x), 1, 0)\n",
    "automovel['comb_eletr'] = np.where(automovel['combustivel'].apply(lambda x: 'Eletr' in x or 'Gas./Eta./E' in x), 1, 0)\n",
    "automovel['comb_eta'] = np.where(automovel['combustivel'].apply(lambda x: 'Eta' in x), 1, 0)\n",
    "automovel['comb_gas'] = np.where(automovel['combustivel'].apply(lambda x: 'Gas' in x), 1, 0)\n",
    "automovel['comb_gnv'] = np.where(automovel['combustivel'].apply(lambda x: 'GNV' in x), 1, 0)\n",
    "\n",
    "# automovel.drop(columns = 'combustivel', inplace=True)"
   ]
  },
  {
   "cell_type": "code",
   "execution_count": 15,
   "metadata": {
    "application/vnd.databricks.v1+cell": {
     "cellMetadata": {
      "byteLimit": 2048000,
      "rowLimit": 10000
     },
     "inputWidgets": {},
     "nuid": "8d6bf0b5-5095-4219-8ca7-4920e82962ee",
     "showTitle": true,
     "tableResultSettingsMap": {},
     "title": "ajuste configuracao"
    }
   },
   "outputs": [],
   "source": [
    "automovel.loc[automovel['configuracao'].str.startswith('Sedan'), 'configuracao'] = 'Sedan'\n",
    "automovel.loc[automovel['configuracao'].str.startswith('Station-Wagon'), 'configuracao'] = 'Station-Wagon'\n",
    "automovel.loc[automovel['configuracao'].str.startswith('Minivan'), 'configuracao'] = 'Minivan'\n",
    "automovel.loc[automovel['configuracao'].str.startswith('Hatchback'), 'configuracao'] = 'Hatchback'\n",
    "\n",
    "automovel['coupe'] = np.where(automovel['configuracao'].str.startswith('Coupe'), 1, 0)"
   ]
  },
  {
   "cell_type": "code",
   "execution_count": 16,
   "metadata": {
    "application/vnd.databricks.v1+cell": {
     "cellMetadata": {
      "byteLimit": 2048000,
      "rowLimit": 10000
     },
     "inputWidgets": {},
     "nuid": "dd803a8a-8b51-422d-b350-edd8e808efd8",
     "showTitle": true,
     "tableResultSettingsMap": {},
     "title": "marca e tipo modelo"
    }
   },
   "outputs": [],
   "source": [
    "top40_marcas = automovel['marca'].value_counts().head(40).index.to_list()\n",
    "\n",
    "automovel['marca'] = np.where(~automovel['marca'].isin(top40_marcas), 'Outros', automovel['marca'])\n",
    "\n",
    "\n",
    "tipo_modelo = automovel.groupby(['marca', 'tipo_modelo']).agg(qtd = ('configuracao', 'count')).reset_index().sort_values(by='qtd', ascending=False)\n",
    "\n",
    "tipo_modelo['tipo_modelo_2'] = np.where(tipo_modelo['qtd'] > 10, \n",
    "                                        tipo_modelo['tipo_modelo'], \n",
    "                                        tipo_modelo['marca'] + '-' + 'Outros' )\n",
    "\n",
    "automovel = automovel.merge(tipo_modelo[['marca', 'tipo_modelo', 'tipo_modelo_2']], on=['marca', 'tipo_modelo'], how='left')\n",
    "\n",
    "automovel = automovel.drop(columns='tipo_modelo').rename(columns={'tipo_modelo_2': 'tipo_modelo'})"
   ]
  },
  {
   "cell_type": "code",
   "execution_count": 17,
   "metadata": {
    "application/vnd.databricks.v1+cell": {
     "cellMetadata": {
      "byteLimit": 2048000,
      "rowLimit": 10000
     },
     "inputWidgets": {},
     "nuid": "4e216e4a-698b-4631-8bf7-dfebd7bda8b6",
     "showTitle": false,
     "tableResultSettingsMap": {},
     "title": ""
    }
   },
   "outputs": [],
   "source": [
    "# oe_opcionais = OrdinalEncoder(categories=[['ND', 'OP', 'SE']], handle_unknown='use_encoded_value', unknown_value=np.nan)\n",
    "\n",
    "# for c in [ 'vidro_travas_eletricas', 'direcao_hidraulica',\n",
    "#        'ar_condicionado', 'cambio_automatico', 'forracao_couro', 'teto_solar',\n",
    "#        'freio_abs', 'air_bag', 'roda_liga_leve', 'kit_multimidia']:\n",
    "#     automovel[c] = oe_opcionais.fit_transform(automovel[[c]])\n",
    "\n",
    "\n",
    "# oe_porte = OrdinalEncoder(categories=[['Peq', 'Med', 'Grd']], handle_unknown='use_encoded_value', unknown_value=np.nan  )\n",
    "\n",
    "# automovel['porte'] = oe_porte.fit_transform(automovel[['porte']])"
   ]
  },
  {
   "cell_type": "code",
   "execution_count": 21,
   "metadata": {
    "application/vnd.databricks.v1+cell": {
     "cellMetadata": {
      "byteLimit": 2048000,
      "rowLimit": 10000
     },
     "inputWidgets": {},
     "nuid": "9799570d-94f9-4ce6-bb27-6d9a228129cf",
     "showTitle": false,
     "tableResultSettingsMap": {},
     "title": ""
    }
   },
   "outputs": [],
   "source": [
    "ohe = OneHotEncoder(handle_unknown='ignore', sparse_output=False)\n",
    "\n",
    "\n",
    "oe_opcionais = OrdinalEncoder(categories=[['ND', 'OP', 'SE'], ['ND', 'OP', 'SE'], ['ND', 'OP', 'SE'], ['ND', 'OP', 'SE'], \n",
    "                                          ['ND', 'OP', 'SE'], ['ND', 'OP', 'SE'], ['ND', 'OP', 'SE'], ['ND', 'OP', 'SE'], \n",
    "                                          ['ND', 'OP', 'SE'], ['ND', 'OP', 'SE']],\n",
    "                              handle_unknown='use_encoded_value', unknown_value=np.nan)\n",
    "\n",
    "oe_porte = OrdinalEncoder(categories=[['Peq', 'Med', 'Grd']], handle_unknown='use_encoded_value', unknown_value=np.nan  )\n",
    "\n",
    "imputer_0 = SimpleImputer(strategy='constant', fill_value=0)\n",
    "\n",
    "\n",
    "# numerical\n",
    "imputer_1 = SimpleImputer(strategy='median')\n",
    "scaling = PowerTransformer()\n",
    "scaling2 = MinMaxScaler()"
   ]
  },
  {
   "cell_type": "code",
   "execution_count": 22,
   "metadata": {
    "application/vnd.databricks.v1+cell": {
     "cellMetadata": {
      "byteLimit": 2048000,
      "rowLimit": 10000
     },
     "inputWidgets": {},
     "nuid": "243f0378-4036-42e6-ac5b-c0d4e82e98b5",
     "showTitle": false,
     "tableResultSettingsMap": {},
     "title": ""
    }
   },
   "outputs": [],
   "source": [
    "column_transformer = ColumnTransformer([\n",
    "    ('ohe', make_pipeline(ohe, imputer_0), ['importacao','acessorio','cambio','caracteristica','configuracao','marca','tipo_modelo']),\n",
    "\n",
    "    ('oe_opcionais', make_pipeline(oe_opcionais, imputer_0),\n",
    "     ['vidro_travas_eletricas', 'direcao_hidraulica','ar_condicionado', 'cambio_automatico', \n",
    "      'forracao_couro', 'teto_solar','freio_abs', 'air_bag', 'roda_liga_leve', 'kit_multimidia']),\n",
    "    \n",
    "    ('oe_porte', make_pipeline(oe_porte, imputer_0), ['porte']),\n",
    "\n",
    "    ('no_change', imputer_0, [ 'comb_dies', 'comb_eletr', 'comb_eta', 'comb_gas', 'comb_gnv', 'coupe' ]),\n",
    "\n",
    "    ('numerical', make_pipeline(imputer_1, scaling, scaling2), \n",
    "     ['passageiros','portas','peso','carga','motor_cc','cv','ano_inicio','ano_fim'] )\n",
    "    \n",
    "]).set_output(transform='pandas')"
   ]
  },
  {
   "cell_type": "code",
   "execution_count": 23,
   "metadata": {
    "application/vnd.databricks.v1+cell": {
     "cellMetadata": {
      "byteLimit": 2048000,
      "rowLimit": 10000
     },
     "inputWidgets": {},
     "nuid": "6484249e-df9c-44ef-ae28-3a32d1727fc2",
     "showTitle": false,
     "tableResultSettingsMap": {},
     "title": ""
    }
   },
   "outputs": [
    {
     "name": "stderr",
     "output_type": "stream",
     "text": [
      "/opt/anaconda3/envs/py38/lib/python3.8/site-packages/numpy/core/_methods.py:239: RuntimeWarning: overflow encountered in multiply\n",
      "  x = um.multiply(x, x, out=x)\n",
      "/opt/anaconda3/envs/py38/lib/python3.8/site-packages/numpy/core/_methods.py:250: RuntimeWarning: overflow encountered in reduce\n",
      "  ret = umr_sum(x, axis, dtype, out, keepdims=keepdims, where=where)\n"
     ]
    }
   ],
   "source": [
    "X = column_transformer.fit_transform(automovel)"
   ]
  },
  {
   "cell_type": "code",
   "execution_count": 25,
   "metadata": {},
   "outputs": [],
   "source": [
    "# X"
   ]
  },
  {
   "cell_type": "code",
   "execution_count": 27,
   "metadata": {
    "application/vnd.databricks.v1+cell": {
     "cellMetadata": {
      "byteLimit": 2048000,
      "rowLimit": 10000
     },
     "inputWidgets": {},
     "nuid": "7f5efd43-8007-4300-98ff-0ac6c2b4510c",
     "showTitle": false,
     "tableResultSettingsMap": {},
     "title": ""
    }
   },
   "outputs": [],
   "source": [
    "# X.to_numpy()"
   ]
  },
  {
   "cell_type": "markdown",
   "metadata": {
    "application/vnd.databricks.v1+cell": {
     "cellMetadata": {
      "byteLimit": 2048000,
      "rowLimit": 10000
     },
     "inputWidgets": {},
     "nuid": "0b39a606-1241-486b-b4df-1aced40a7456",
     "showTitle": false,
     "tableResultSettingsMap": {},
     "title": ""
    }
   },
   "source": [
    "## otimizando autoencoder"
   ]
  },
  {
   "cell_type": "code",
   "execution_count": 0,
   "metadata": {
    "application/vnd.databricks.v1+cell": {
     "cellMetadata": {
      "byteLimit": 2048000,
      "rowLimit": 10000
     },
     "inputWidgets": {},
     "nuid": "a5784b09-5453-4a32-a454-850cae3b234c",
     "showTitle": false,
     "tableResultSettingsMap": {},
     "title": ""
    }
   },
   "outputs": [],
   "source": [
    "# from sklearn.datasets import make_regression\n",
    "# # apenas para criar um dataset X, qualquer\n",
    "\n",
    "# X, _ = make_regression(40000, n_informative=30, effective_rank=10, random_state=42, )\n",
    "# X = 100* X\n",
    "\n",
    "# print(X.shape)"
   ]
  },
  {
   "cell_type": "code",
   "execution_count": 0,
   "metadata": {
    "application/vnd.databricks.v1+cell": {
     "cellMetadata": {
      "byteLimit": 2048000,
      "rowLimit": 10000
     },
     "inputWidgets": {},
     "nuid": "c1c8553e-8eaa-48f8-90dc-5753758ed8d0",
     "showTitle": false,
     "tableResultSettingsMap": {},
     "title": ""
    }
   },
   "outputs": [],
   "source": [
    "import optuna"
   ]
  },
  {
   "cell_type": "code",
   "execution_count": 0,
   "metadata": {
    "application/vnd.databricks.v1+cell": {
     "cellMetadata": {
      "byteLimit": 2048000,
      "rowLimit": 10000
     },
     "inputWidgets": {},
     "nuid": "12685e50-3d51-434d-a0c6-92f17be8f663",
     "showTitle": false,
     "tableResultSettingsMap": {},
     "title": ""
    }
   },
   "outputs": [],
   "source": [
    "def objective(trial):\n",
    "    # n_latent = trial.suggest_int('latent',2,3)\n",
    "    # n_hidden = trial.suggest_int('hidden',0,4)\n",
    "    # decay = trial.suggest_categorical('decay', ['linear', 'geometric'])\n",
    "    l1 = trial.suggest_float('l1', 1e-10, 1., log=True)\n",
    "    l2 = trial.suggest_float('l2', 1e-10, 1., log=True)\n",
    "\n",
    "    # epochs = trial.suggest_int('epochs', 5, 50)\n",
    "\n",
    "    learn_rate = trial.suggest_float('learn_rate', 1e-10, 1., log=True)\n",
    "    \n",
    "    score = cross_val_score_keras(create_autoencoder(377, n_latent_dims=6, decay='geometric', \n",
    "                                                     n_hidden=2, l1=l1, l2=l2), \n",
    "                                  X.to_numpy(), X.to_numpy(), \n",
    "                                  cv = 3,\n",
    "                                  nb_epoch = 50, learn_rate = learn_rate, \n",
    "                                  verbose = 0).mean()\n",
    "    \n",
    "\n",
    "    return score"
   ]
  },
  {
   "cell_type": "markdown",
   "metadata": {
    "application/vnd.databricks.v1+cell": {
     "cellMetadata": {
      "byteLimit": 2048000,
      "rowLimit": 10000
     },
     "inputWidgets": {},
     "nuid": "94738d25-daa6-4352-9260-7790b51dd705",
     "showTitle": false,
     "tableResultSettingsMap": {},
     "title": ""
    }
   },
   "source": [
    "- descomente as linhas apos LOADING e SAVING TRIALS, para salvar e carregar as trials ja executadas e poder continuar a otimizacao de onde parou (configure o caminho tbm, para salvar o arquivo)\n",
    "\n",
    "- rodei apenas 3 trials para efeito de exemplo, mas rode mais, para de fato chegar a uma estrutura mais proxima da ótima\n"
   ]
  },
  {
   "cell_type": "code",
   "execution_count": 0,
   "metadata": {
    "application/vnd.databricks.v1+cell": {
     "cellMetadata": {
      "byteLimit": 2048000,
      "rowLimit": 10000
     },
     "inputWidgets": {},
     "nuid": "481d5c12-076a-463e-9c9a-86f3c6d21c47",
     "showTitle": false,
     "tableResultSettingsMap": {},
     "title": ""
    }
   },
   "outputs": [],
   "source": [
    "study = optuna.create_study(direction='minimize')\n",
    "\n",
    "## LOADING TRIALS\n",
    "# try: \n",
    "#     with open('trials_autoencoder.pkl', 'rb') as f:\n",
    "#         study.add_trials(pickle.load(f))\n",
    "# except:\n",
    "#     pass\n",
    "\n",
    "\n",
    "study.optimize(objective, n_trials= 10)\n",
    "\n",
    "\n",
    "## SAVING TRIALS\n",
    "# with open('trials_autoencoder.pkl', 'wb') as f:\n",
    "#     pickle.dump(study.trials, f)"
   ]
  },
  {
   "cell_type": "markdown",
   "metadata": {
    "application/vnd.databricks.v1+cell": {
     "cellMetadata": {
      "byteLimit": 2048000,
      "rowLimit": 10000
     },
     "inputWidgets": {},
     "nuid": "d603ad91-9331-437e-9aa7-6871f499f18d",
     "showTitle": false,
     "tableResultSettingsMap": {},
     "title": ""
    }
   },
   "source": [
    "## criando o autoencoder otimizado"
   ]
  },
  {
   "cell_type": "code",
   "execution_count": 28,
   "metadata": {
    "application/vnd.databricks.v1+cell": {
     "cellMetadata": {
      "byteLimit": 2048000,
      "rowLimit": 10000
     },
     "inputWidgets": {},
     "nuid": "5c8107b0-3783-4d9c-8de4-93f539d2c186",
     "showTitle": false,
     "tableResultSettingsMap": {},
     "title": ""
    }
   },
   "outputs": [],
   "source": [
    "# print(study.best_params)\n",
    "\n",
    "# {'latent': 2, 'hidden': 3, 'decay': 'linear', 'l1': 2.573136929254429e-08, 'l2': 1.1166752017068513e-06, 'learn_rate': 8.780870653957586e-06}\n",
    "# 0.023492521916826565\n",
    "\n",
    "# {n_latent_dims=6, decay='geometric',  n_hidden=2 ,   'l1': 6.0411101960361105e-06, 'l2': 5.308419235218851e-06, 'learn_rate': 0.0009406077964293254}\n",
    "# 0.0088858837261796"
   ]
  },
  {
   "cell_type": "code",
   "execution_count": 29,
   "metadata": {
    "application/vnd.databricks.v1+cell": {
     "cellMetadata": {
      "byteLimit": 2048000,
      "rowLimit": 10000
     },
     "inputWidgets": {},
     "nuid": "217a5dd1-3b63-4c10-96f4-8ec982aaf8f3",
     "showTitle": false,
     "tableResultSettingsMap": {},
     "title": ""
    }
   },
   "outputs": [
    {
     "name": "stdout",
     "output_type": "stream",
     "text": [
      "Epoch 1/50\n",
      "646/646 [==============================] - 8s 10ms/step - loss: 0.0271 - val_loss: 0.0168\n",
      "Epoch 2/50\n",
      "646/646 [==============================] - 5s 8ms/step - loss: 0.0154 - val_loss: 0.0144\n",
      "Epoch 3/50\n",
      "646/646 [==============================] - 5s 8ms/step - loss: 0.0137 - val_loss: 0.0132\n",
      "Epoch 4/50\n",
      "646/646 [==============================] - 5s 8ms/step - loss: 0.0129 - val_loss: 0.0126\n",
      "Epoch 5/50\n",
      "646/646 [==============================] - 5s 7ms/step - loss: 0.0124 - val_loss: 0.0122\n",
      "Epoch 6/50\n",
      "646/646 [==============================] - 5s 7ms/step - loss: 0.0121 - val_loss: 0.0119\n",
      "Epoch 7/50\n",
      "646/646 [==============================] - 4s 7ms/step - loss: 0.0118 - val_loss: 0.0116\n",
      "Epoch 8/50\n",
      "646/646 [==============================] - 6s 9ms/step - loss: 0.0114 - val_loss: 0.0112\n",
      "Epoch 9/50\n",
      "646/646 [==============================] - 6s 9ms/step - loss: 0.0111 - val_loss: 0.0110\n",
      "Epoch 10/50\n",
      "646/646 [==============================] - 6s 9ms/step - loss: 0.0109 - val_loss: 0.0108\n",
      "Epoch 11/50\n",
      "646/646 [==============================] - 5s 8ms/step - loss: 0.0107 - val_loss: 0.0106\n",
      "Epoch 12/50\n",
      "646/646 [==============================] - 6s 9ms/step - loss: 0.0106 - val_loss: 0.0105\n",
      "Epoch 13/50\n",
      "646/646 [==============================] - 6s 9ms/step - loss: 0.0105 - val_loss: 0.0104\n",
      "Epoch 14/50\n",
      "646/646 [==============================] - 6s 9ms/step - loss: 0.0104 - val_loss: 0.0103\n",
      "Epoch 15/50\n",
      "646/646 [==============================] - 6s 9ms/step - loss: 0.0103 - val_loss: 0.0103\n",
      "Epoch 16/50\n",
      "646/646 [==============================] - 7s 11ms/step - loss: 0.0103 - val_loss: 0.0103\n",
      "Epoch 17/50\n",
      "646/646 [==============================] - 7s 11ms/step - loss: 0.0102 - val_loss: 0.0101\n",
      "Epoch 18/50\n",
      "646/646 [==============================] - 6s 9ms/step - loss: 0.0101 - val_loss: 0.0100\n",
      "Epoch 19/50\n",
      "646/646 [==============================] - 6s 10ms/step - loss: 0.0100 - val_loss: 0.0100\n",
      "Epoch 20/50\n",
      "646/646 [==============================] - 5s 8ms/step - loss: 0.0100 - val_loss: 0.0099\n",
      "Epoch 21/50\n",
      "646/646 [==============================] - 4s 6ms/step - loss: 0.0099 - val_loss: 0.0099\n",
      "Epoch 22/50\n",
      "646/646 [==============================] - 4s 6ms/step - loss: 0.0099 - val_loss: 0.0099\n",
      "Epoch 23/50\n",
      "646/646 [==============================] - 4s 7ms/step - loss: 0.0099 - val_loss: 0.0099\n",
      "Epoch 24/50\n",
      "646/646 [==============================] - 4s 6ms/step - loss: 0.0099 - val_loss: 0.0099\n",
      "Epoch 25/50\n",
      "646/646 [==============================] - 5s 8ms/step - loss: 0.0099 - val_loss: 0.0098\n",
      "Epoch 26/50\n",
      "646/646 [==============================] - 4s 6ms/step - loss: 0.0098 - val_loss: 0.0098\n",
      "Epoch 27/50\n",
      "646/646 [==============================] - 4s 6ms/step - loss: 0.0098 - val_loss: 0.0098\n",
      "Epoch 28/50\n",
      "646/646 [==============================] - 8s 13ms/step - loss: 0.0098 - val_loss: 0.0098\n",
      "Epoch 29/50\n",
      "646/646 [==============================] - 5s 7ms/step - loss: 0.0098 - val_loss: 0.0098\n",
      "Epoch 30/50\n",
      "646/646 [==============================] - 4s 7ms/step - loss: 0.0098 - val_loss: 0.0097\n",
      "Epoch 31/50\n",
      "646/646 [==============================] - 4s 7ms/step - loss: 0.0097 - val_loss: 0.0097\n",
      "Epoch 32/50\n",
      "646/646 [==============================] - 4s 7ms/step - loss: 0.0097 - val_loss: 0.0097\n",
      "Epoch 33/50\n",
      "646/646 [==============================] - 4s 6ms/step - loss: 0.0097 - val_loss: 0.0097\n",
      "Epoch 34/50\n",
      "646/646 [==============================] - 5s 7ms/step - loss: 0.0097 - val_loss: 0.0097\n",
      "Epoch 35/50\n",
      "646/646 [==============================] - 4s 6ms/step - loss: 0.0097 - val_loss: 0.0097\n",
      "Epoch 36/50\n",
      "646/646 [==============================] - 4s 7ms/step - loss: 0.0097 - val_loss: 0.0097\n",
      "Epoch 37/50\n",
      "646/646 [==============================] - 4s 6ms/step - loss: 0.0097 - val_loss: 0.0096\n",
      "Epoch 38/50\n",
      "646/646 [==============================] - 5s 7ms/step - loss: 0.0096 - val_loss: 0.0096\n",
      "Epoch 39/50\n",
      "646/646 [==============================] - 5s 7ms/step - loss: 0.0096 - val_loss: 0.0096\n",
      "Epoch 40/50\n",
      "646/646 [==============================] - 4s 7ms/step - loss: 0.0096 - val_loss: 0.0096\n",
      "Epoch 41/50\n",
      "646/646 [==============================] - 5s 7ms/step - loss: 0.0096 - val_loss: 0.0096\n",
      "Epoch 42/50\n",
      "646/646 [==============================] - 7s 10ms/step - loss: 0.0096 - val_loss: 0.0096\n",
      "Epoch 43/50\n",
      "646/646 [==============================] - 4s 7ms/step - loss: 0.0096 - val_loss: 0.0096\n",
      "Epoch 44/50\n",
      "646/646 [==============================] - 8s 12ms/step - loss: 0.0096 - val_loss: 0.0096\n",
      "Epoch 45/50\n",
      "646/646 [==============================] - 4s 7ms/step - loss: 0.0096 - val_loss: 0.0096\n",
      "Epoch 46/50\n",
      "646/646 [==============================] - 5s 7ms/step - loss: 0.0096 - val_loss: 0.0096\n",
      "Epoch 47/50\n",
      "646/646 [==============================] - 8s 13ms/step - loss: 0.0096 - val_loss: 0.0096\n",
      "Epoch 48/50\n",
      "646/646 [==============================] - 7s 12ms/step - loss: 0.0096 - val_loss: 0.0096\n",
      "Epoch 49/50\n",
      "646/646 [==============================] - 7s 11ms/step - loss: 0.0096 - val_loss: 0.0096\n",
      "Epoch 50/50\n",
      "646/646 [==============================] - 6s 10ms/step - loss: 0.0096 - val_loss: 0.0096\n",
      "646/646 [==============================] - 4s 6ms/step - loss: 0.0096\n",
      "0.009574984200298786\n"
     ]
    }
   ],
   "source": [
    "autoencoder = create_autoencoder(377, 6, 'geometric', 2, l1= 6.0411101960361105e-06, l2= 5.308419235218851e-06)\n",
    "\n",
    "_, history = train_evaluate_model(autoencoder, X_train= X, y_train= X, X_test= X, y_test= X, \n",
    "                     nb_epoch=50, learn_rate= 0.0009406077964293254 , verbose=1)\n",
    "print(_)\n",
    "\n",
    "# 0.012820901349186897\n",
    "\n",
    "# 0.009574984200298786"
   ]
  },
  {
   "cell_type": "code",
   "execution_count": 30,
   "metadata": {
    "application/vnd.databricks.v1+cell": {
     "cellMetadata": {
      "byteLimit": 2048000,
      "rowLimit": 10000
     },
     "inputWidgets": {},
     "nuid": "766178a3-0250-498d-b4e4-b8d5d4679a80",
     "showTitle": false,
     "tableResultSettingsMap": {},
     "title": ""
    }
   },
   "outputs": [
    {
     "data": {
      "text/plain": [
       "<function keras.src.activations.relu(x, alpha=0.0, max_value=None, threshold=0.0)>"
      ]
     },
     "execution_count": 30,
     "metadata": {},
     "output_type": "execute_result"
    }
   ],
   "source": [
    "autoencoder.layers[-1].activation"
   ]
  },
  {
   "cell_type": "code",
   "execution_count": 31,
   "metadata": {
    "application/vnd.databricks.v1+cell": {
     "cellMetadata": {
      "byteLimit": 2048000,
      "rowLimit": 10000
     },
     "inputWidgets": {},
     "nuid": "95f902fd-6911-4f3f-bf13-e9028ede21c6",
     "showTitle": false,
     "tableResultSettingsMap": {},
     "title": ""
    }
   },
   "outputs": [
    {
     "data": {
      "image/png": "[encoded data removed]",
      "text/plain": [
       "<Figure size 900x500 with 1 Axes>"
      ]
     },
     "metadata": {},
     "output_type": "display_data"
    }
   ],
   "source": [
    "plt.figure(figsize=(9, 5))\n",
    "plt.plot(history['loss'], linewidth=2, label='Train')\n",
    "plt.plot(history['val_loss'], linewidth=2, label='Test')\n",
    "plt.legend(loc='upper right')\n",
    "plt.title('Model loss')\n",
    "plt.ylabel('Loss')\n",
    "plt.xlabel('Epoch')\n",
    "#plt.ylim(ymin=0.70,ymax=1)\n",
    "plt.show()"
   ]
  },
  {
   "cell_type": "code",
   "execution_count": 32,
   "metadata": {
    "application/vnd.databricks.v1+cell": {
     "cellMetadata": {
      "byteLimit": 2048000,
      "rowLimit": 10000
     },
     "inputWidgets": {},
     "nuid": "ef2accaa-9884-4672-b530-206d2652b67f",
     "showTitle": false,
     "tableResultSettingsMap": {},
     "title": ""
    }
   },
   "outputs": [
    {
     "name": "stdout",
     "output_type": "stream",
     "text": [
      "       Reconstruction_error\n",
      "count          20668.000000\n",
      "mean               0.007665\n",
      "std                0.003282\n",
      "min                0.000582\n",
      "25%                0.005756\n",
      "50%                0.006832\n",
      "75%                0.009200\n",
      "max                0.053823\n"
     ]
    }
   ],
   "source": [
    "reconstruction_error(autoencoder, X)"
   ]
  },
  {
   "cell_type": "code",
   "execution_count": 33,
   "metadata": {
    "application/vnd.databricks.v1+cell": {
     "cellMetadata": {
      "byteLimit": 2048000,
      "rowLimit": 10000
     },
     "inputWidgets": {},
     "nuid": "d98b3ad2-65c4-4fb5-8185-1490e889ab37",
     "showTitle": false,
     "tableResultSettingsMap": {},
     "title": ""
    }
   },
   "outputs": [],
   "source": [
    "autoencoder2 = create_autoencoder(377, 3, [20, 10], n_hidden=2)"
   ]
  },
  {
   "cell_type": "code",
   "execution_count": 35,
   "metadata": {
    "application/vnd.databricks.v1+cell": {
     "cellMetadata": {
      "byteLimit": 2048000,
      "rowLimit": 10000
     },
     "inputWidgets": {},
     "nuid": "7c1bb83a-394f-4ded-aa4d-7e0880770a78",
     "showTitle": false,
     "tableResultSettingsMap": {},
     "title": ""
    }
   },
   "outputs": [
    {
     "name": "stdout",
     "output_type": "stream",
     "text": [
      "Epoch 1/50\n",
      "646/646 [==============================] - 6s 7ms/step - loss: 0.1189 - val_loss: 0.0621\n",
      "Epoch 2/50\n",
      "646/646 [==============================] - 4s 7ms/step - loss: 0.0460 - val_loss: 0.0392\n",
      "Epoch 3/50\n",
      "646/646 [==============================] - 4s 6ms/step - loss: 0.0376 - val_loss: 0.0362\n",
      "Epoch 4/50\n",
      "646/646 [==============================] - 5s 8ms/step - loss: 0.0352 - val_loss: 0.0342\n",
      "Epoch 5/50\n",
      "646/646 [==============================] - 5s 8ms/step - loss: 0.0333 - val_loss: 0.0325\n",
      "Epoch 6/50\n",
      "646/646 [==============================] - 7s 11ms/step - loss: 0.0318 - val_loss: 0.0311\n",
      "Epoch 7/50\n",
      "646/646 [==============================] - 7s 11ms/step - loss: 0.0305 - val_loss: 0.0299\n",
      "Epoch 8/50\n",
      "646/646 [==============================] - 5s 8ms/step - loss: 0.0294 - val_loss: 0.0290\n",
      "Epoch 9/50\n",
      "646/646 [==============================] - 3s 4ms/step - loss: 0.0287 - val_loss: 0.0283\n",
      "Epoch 10/50\n",
      "646/646 [==============================] - 4s 6ms/step - loss: 0.0281 - val_loss: 0.0278\n",
      "Epoch 11/50\n",
      "646/646 [==============================] - 6s 9ms/step - loss: 0.0275 - val_loss: 0.0273\n",
      "Epoch 12/50\n",
      "646/646 [==============================] - 6s 9ms/step - loss: 0.0271 - val_loss: 0.0269\n",
      "Epoch 13/50\n",
      "646/646 [==============================] - 5s 8ms/step - loss: 0.0267 - val_loss: 0.0266\n",
      "Epoch 14/50\n",
      "646/646 [==============================] - 3s 4ms/step - loss: 0.0265 - val_loss: 0.0263\n",
      "Epoch 15/50\n",
      "646/646 [==============================] - 3s 5ms/step - loss: 0.0262 - val_loss: 0.0262\n",
      "Epoch 16/50\n",
      "646/646 [==============================] - 4s 5ms/step - loss: 0.0261 - val_loss: 0.0260\n",
      "Epoch 17/50\n",
      "646/646 [==============================] - 4s 6ms/step - loss: 0.0259 - val_loss: 0.0258\n",
      "Epoch 18/50\n",
      "646/646 [==============================] - 4s 6ms/step - loss: 0.0258 - val_loss: 0.0257\n",
      "Epoch 19/50\n",
      "646/646 [==============================] - 2s 4ms/step - loss: 0.0257 - val_loss: 0.0256\n",
      "Epoch 20/50\n",
      "646/646 [==============================] - 3s 4ms/step - loss: 0.0256 - val_loss: 0.0255\n",
      "Epoch 21/50\n",
      "646/646 [==============================] - 3s 4ms/step - loss: 0.0255 - val_loss: 0.0255\n",
      "Epoch 22/50\n",
      "646/646 [==============================] - 3s 5ms/step - loss: 0.0254 - val_loss: 0.0254\n",
      "Epoch 23/50\n",
      "646/646 [==============================] - 4s 6ms/step - loss: 0.0254 - val_loss: 0.0254\n",
      "Epoch 24/50\n",
      "646/646 [==============================] - 4s 6ms/step - loss: 0.0253 - val_loss: 0.0253\n",
      "Epoch 25/50\n",
      "646/646 [==============================] - 3s 5ms/step - loss: 0.0253 - val_loss: 0.0252\n",
      "Epoch 26/50\n",
      "646/646 [==============================] - 3s 5ms/step - loss: 0.0252 - val_loss: 0.0252\n",
      "Epoch 27/50\n",
      "646/646 [==============================] - 2s 4ms/step - loss: 0.0252 - val_loss: 0.0251\n",
      "Epoch 28/50\n",
      "646/646 [==============================] - 3s 5ms/step - loss: 0.0251 - val_loss: 0.0251\n",
      "Epoch 29/50\n",
      "646/646 [==============================] - 3s 5ms/step - loss: 0.0250 - val_loss: 0.0250\n",
      "Epoch 30/50\n",
      "646/646 [==============================] - 3s 5ms/step - loss: 0.0250 - val_loss: 0.0249\n",
      "Epoch 31/50\n",
      "646/646 [==============================] - 3s 5ms/step - loss: 0.0249 - val_loss: 0.0249\n",
      "Epoch 32/50\n",
      "646/646 [==============================] - 2s 4ms/step - loss: 0.0249 - val_loss: 0.0248\n",
      "Epoch 33/50\n",
      "646/646 [==============================] - 2s 4ms/step - loss: 0.0248 - val_loss: 0.0248\n",
      "Epoch 34/50\n",
      "646/646 [==============================] - 2s 4ms/step - loss: 0.0247 - val_loss: 0.0247\n",
      "Epoch 35/50\n",
      "646/646 [==============================] - 3s 4ms/step - loss: 0.0247 - val_loss: 0.0247\n",
      "Epoch 36/50\n",
      "646/646 [==============================] - 3s 4ms/step - loss: 0.0246 - val_loss: 0.0246\n",
      "Epoch 37/50\n",
      "646/646 [==============================] - 2s 4ms/step - loss: 0.0246 - val_loss: 0.0245\n",
      "Epoch 38/50\n",
      "646/646 [==============================] - 3s 4ms/step - loss: 0.0245 - val_loss: 0.0245\n",
      "Epoch 39/50\n",
      "646/646 [==============================] - 3s 5ms/step - loss: 0.0245 - val_loss: 0.0244\n",
      "Epoch 40/50\n",
      "646/646 [==============================] - 3s 5ms/step - loss: 0.0244 - val_loss: 0.0244\n",
      "Epoch 41/50\n",
      "646/646 [==============================] - 6s 10ms/step - loss: 0.0243 - val_loss: 0.0243\n",
      "Epoch 42/50\n",
      "646/646 [==============================] - 6s 10ms/step - loss: 0.0243 - val_loss: 0.0242\n",
      "Epoch 43/50\n",
      "646/646 [==============================] - 8s 12ms/step - loss: 0.0242 - val_loss: 0.0241\n",
      "Epoch 44/50\n",
      "646/646 [==============================] - 7s 10ms/step - loss: 0.0241 - val_loss: 0.0241\n",
      "Epoch 45/50\n",
      "646/646 [==============================] - 6s 10ms/step - loss: 0.0240 - val_loss: 0.0240\n",
      "Epoch 46/50\n",
      "646/646 [==============================] - 10s 15ms/step - loss: 0.0240 - val_loss: 0.0239\n",
      "Epoch 47/50\n",
      "646/646 [==============================] - 5s 8ms/step - loss: 0.0239 - val_loss: 0.0238\n",
      "Epoch 48/50\n",
      "646/646 [==============================] - 3s 5ms/step - loss: 0.0238 - val_loss: 0.0238\n",
      "Epoch 49/50\n",
      "646/646 [==============================] - 4s 6ms/step - loss: 0.0238 - val_loss: 0.0237\n",
      "Epoch 50/50\n",
      "646/646 [==============================] - 4s 6ms/step - loss: 0.0237 - val_loss: 0.0237\n",
      "646/646 [==============================] - 2s 2ms/step - loss: 0.0237\n"
     ]
    }
   ],
   "source": [
    "_, history = train_evaluate_model(autoencoder2, X_train= X, y_train= X, X_test= X, y_test= X, \n",
    "                     nb_epoch=50, learn_rate= 1.4879983773773012e-04 , verbose=1)"
   ]
  },
  {
   "cell_type": "markdown",
   "metadata": {},
   "source": [
    "### otimizando"
   ]
  },
  {
   "cell_type": "code",
   "execution_count": 36,
   "metadata": {},
   "outputs": [
    {
     "name": "stderr",
     "output_type": "stream",
     "text": [
      "/opt/anaconda3/envs/py38/lib/python3.8/site-packages/tqdm/auto.py:21: TqdmWarning: IProgress not found. Please update jupyter and ipywidgets. See https://ipywidgets.readthedocs.io/en/stable/user_install.html\n",
      "  from .autonotebook import tqdm as notebook_tqdm\n"
     ]
    }
   ],
   "source": [
    "import optuna"
   ]
  },
  {
   "cell_type": "code",
   "execution_count": 42,
   "metadata": {},
   "outputs": [],
   "source": [
    "def objective(trial):\n",
    "    # n_latent = trial.suggest_int('latent',2,3)\n",
    "    # n_hidden = trial.suggest_int('hidden',0,4)\n",
    "    # decay = trial.suggest_categorical('decay', ['linear', 'geometric'])\n",
    "    l1 = trial.suggest_float('l1', 1e-10, 1., log=True)\n",
    "    l2 = trial.suggest_float('l2', 1e-10, 1., log=True)\n",
    "\n",
    "    # epochs = trial.suggest_int('epochs', 5, 50)\n",
    "\n",
    "    learn_rate = trial.suggest_float('learn_rate', 1e-10, 1., log=True)\n",
    "    \n",
    "    score = cross_val_score_keras(create_autoencoder(377, 3, [20, 10], n_hidden=2, \n",
    "                                    l1=l1, l2=l2), \n",
    "                                  X.to_numpy(), X.to_numpy(), \n",
    "                                  cv = 3,\n",
    "                                  nb_epoch = 10, learn_rate = learn_rate, \n",
    "                                  verbose = 0).mean()\n",
    "    \n",
    "\n",
    "    return score"
   ]
  },
  {
   "cell_type": "code",
   "execution_count": 44,
   "metadata": {},
   "outputs": [
    {
     "name": "stderr",
     "output_type": "stream",
     "text": [
      "[I 2025-01-05 16:48:45,151] Trial 10 finished with value: 0.18032855788866678 and parameters: {'l1': 6.42820596096525e-05, 'l2': 1.433994607316245e-10, 'learn_rate': 0.8942359756369416}. Best is trial 8 with value: 0.014463317270080248.\n",
      "[I 2025-01-05 16:49:36,098] Trial 11 finished with value: 0.07495324437816937 and parameters: {'l1': 1.3901432478905145e-10, 'l2': 1.585443396464241e-07, 'learn_rate': 0.11695235556373085}. Best is trial 8 with value: 0.014463317270080248.\n",
      "[I 2025-01-05 16:50:34,030] Trial 12 finished with value: 0.014367728804548582 and parameters: {'l1': 1.924682405142445e-06, 'l2': 1.4162699977877257e-08, 'learn_rate': 0.018758955404916552}. Best is trial 12 with value: 0.014367728804548582.\n",
      "[I 2025-01-05 16:51:30,333] Trial 13 finished with value: 0.010813549781839052 and parameters: {'l1': 2.424960106526441e-06, 'l2': 1.1331036420044789e-08, 'learn_rate': 0.0051545273395567325}. Best is trial 13 with value: 0.010813549781839052.\n",
      "[I 2025-01-05 16:52:26,796] Trial 14 finished with value: 0.02517826296389103 and parameters: {'l1': 1.0844213381273286e-06, 'l2': 1.5894863672271006e-08, 'learn_rate': 0.014713085977731242}. Best is trial 13 with value: 0.010813549781839052.\n",
      "[I 2025-01-05 16:53:19,395] Trial 15 finished with value: 0.07488229374090831 and parameters: {'l1': 0.0007269098404981457, 'l2': 2.4786320441998425e-08, 'learn_rate': 0.03647174388835793}. Best is trial 13 with value: 0.010813549781839052.\n",
      "[I 2025-01-05 16:54:09,004] Trial 16 finished with value: 0.08089803407589595 and parameters: {'l1': 8.847603174248956e-07, 'l2': 2.3057628234166768e-07, 'learn_rate': 1.4986480270406281e-06}. Best is trial 13 with value: 0.010813549781839052.\n",
      "[I 2025-01-05 16:54:58,448] Trial 17 finished with value: 0.08596860120693843 and parameters: {'l1': 2.3520583348161808e-06, 'l2': 2.464959821809534e-09, 'learn_rate': 0.2777520155993302}. Best is trial 13 with value: 0.010813549781839052.\n",
      "[I 2025-01-05 16:55:46,837] Trial 18 finished with value: 0.04756879806518555 and parameters: {'l1': 0.00161433260224232, 'l2': 1.0914137847655802e-06, 'learn_rate': 0.006123917867573748}. Best is trial 13 with value: 0.010813549781839052.\n",
      "[I 2025-01-05 16:56:38,845] Trial 19 finished with value: 0.11949134369691213 and parameters: {'l1': 9.288112309269738e-09, 'l2': 0.00022381489872213433, 'learn_rate': 5.7770676218164e-10}. Best is trial 13 with value: 0.010813549781839052.\n",
      "[I 2025-01-05 16:57:27,158] Trial 20 finished with value: 0.023250069469213486 and parameters: {'l1': 3.8125182217720924e-06, 'l2': 2.4857978853468147e-09, 'learn_rate': 0.0005798775077103378}. Best is trial 13 with value: 0.010813549781839052.\n",
      "[I 2025-01-05 16:58:17,973] Trial 21 finished with value: 0.0222039142002662 and parameters: {'l1': 0.000154424401397792, 'l2': 3.3915019125976087e-09, 'learn_rate': 0.0022402387019535563}. Best is trial 13 with value: 0.010813549781839052.\n",
      "[I 2025-01-05 16:59:10,248] Trial 22 finished with value: 0.018982776751120884 and parameters: {'l1': 1.4070245378373056e-05, 'l2': 1.253593767992669e-10, 'learn_rate': 0.04202470031600875}. Best is trial 13 with value: 0.010813549781839052.\n",
      "[I 2025-01-05 17:00:00,528] Trial 23 finished with value: 0.019265225778023403 and parameters: {'l1': 3.2944812432430303e-07, 'l2': 6.363392310403835e-08, 'learn_rate': 0.009968185560694141}. Best is trial 13 with value: 0.010813549781839052.\n",
      "[I 2025-01-05 17:00:57,812] Trial 24 finished with value: 0.22008033593495688 and parameters: {'l1': 0.00023451072691225836, 'l2': 1.2011248509019774e-09, 'learn_rate': 3.7744945749425584e-06}. Best is trial 13 with value: 0.010813549781839052.\n",
      "[I 2025-01-05 17:01:50,252] Trial 25 finished with value: 0.018819083149234455 and parameters: {'l1': 1.504907952069675e-05, 'l2': 1.2263184210851626e-08, 'learn_rate': 0.00017304676567377235}. Best is trial 13 with value: 0.010813549781839052.\n",
      "[I 2025-01-05 17:02:43,981] Trial 26 finished with value: 5.006518840789795 and parameters: {'l1': 0.014926886890422653, 'l2': 5.004232213879199e-07, 'learn_rate': 0.21697659203685749}. Best is trial 13 with value: 0.010813549781839052.\n",
      "[I 2025-01-05 17:03:32,815] Trial 27 finished with value: 0.019636977463960648 and parameters: {'l1': 2.8384955564601177e-07, 'l2': 4.647945832678017e-10, 'learn_rate': 0.002228678833205084}. Best is trial 13 with value: 0.010813549781839052.\n",
      "[I 2025-01-05 17:04:17,512] Trial 28 finished with value: 0.01385178075482448 and parameters: {'l1': 4.0749971566632634e-06, 'l2': 8.81440963031576e-09, 'learn_rate': 0.00028899188826473607}. Best is trial 13 with value: 0.010813549781839052.\n",
      "[I 2025-01-05 17:04:56,064] Trial 29 finished with value: 0.037355623518427215 and parameters: {'l1': 1.7913775883502837e-07, 'l2': 2.034257207674204e-06, 'learn_rate': 1.3479351297674087e-05}. Best is trial 13 with value: 0.010813549781839052.\n",
      "[I 2025-01-05 17:05:35,105] Trial 30 finished with value: 0.023539390414953232 and parameters: {'l1': 3.7316158361569813e-06, 'l2': 0.0002922869047234153, 'learn_rate': 0.0002763595847072306}. Best is trial 13 with value: 0.010813549781839052.\n",
      "[I 2025-01-05 17:06:24,337] Trial 31 finished with value: 6.947925567626953 and parameters: {'l1': 0.9233230178407409, 'l2': 6.640851502358423e-09, 'learn_rate': 0.004632310490764226}. Best is trial 13 with value: 0.010813549781839052.\n",
      "[I 2025-01-05 17:07:03,856] Trial 32 finished with value: 0.014127216301858425 and parameters: {'l1': 1.1262761701289172e-08, 'l2': 6.161096769370137e-08, 'learn_rate': 0.040173957073421224}. Best is trial 13 with value: 0.010813549781839052.\n",
      "[I 2025-01-05 17:07:43,496] Trial 33 finished with value: 0.01755480964978536 and parameters: {'l1': 1.669046694434924e-09, 'l2': 1.1272521914960678e-07, 'learn_rate': 0.029210718635594303}. Best is trial 13 with value: 0.010813549781839052.\n",
      "[I 2025-01-05 22:06:14,915] Trial 34 finished with value: 0.09497989217440288 and parameters: {'l1': 2.1950567844627652e-07, 'l2': 4.2220461399728685e-05, 'learn_rate': 0.7713744385199571}. Best is trial 13 with value: 0.010813549781839052.\n",
      "[I 2025-01-06 16:19:22,143] Trial 35 finished with value: 0.07255833968520164 and parameters: {'l1': 8.254125700593152e-09, 'l2': 2.6402656194965767e-08, 'learn_rate': 0.10080477218627315}. Best is trial 13 with value: 0.010813549781839052.\n",
      "[I 2025-01-08 10:54:24,500] Trial 36 finished with value: 0.03274541844924291 and parameters: {'l1': 8.204378602247863e-09, 'l2': 1.1663888214008677e-09, 'learn_rate': 2.7888070753349676e-05}. Best is trial 13 with value: 0.010813549781839052.\n",
      "[I 2025-01-09 18:15:04,572] Trial 37 finished with value: 0.015410125255584717 and parameters: {'l1': 2.5428096172379823e-08, 'l2': 4.385578262386703e-08, 'learn_rate': 0.00015210280495281517}. Best is trial 13 with value: 0.010813549781839052.\n",
      "[I 2025-01-11 16:15:11,310] Trial 38 finished with value: 0.014904662656287352 and parameters: {'l1': 4.959224480509933e-06, 'l2': 2.1510480399866554e-05, 'learn_rate': 0.0006628498752992578}. Best is trial 13 with value: 0.010813549781839052.\n",
      "[I 2025-01-17 10:15:09,426] Trial 39 finished with value: 0.011346616161366304 and parameters: {'l1': 7.280875942185818e-07, 'l2': 8.045642705023556e-07, 'learn_rate': 0.01470472384187098}. Best is trial 13 with value: 0.010813549781839052.\n",
      "[I 2025-01-18 11:03:31,177] Trial 40 finished with value: 0.09389420598745346 and parameters: {'l1': 9.990980622631e-08, 'l2': 2.4041955066925598e-06, 'learn_rate': 1.2500708642558923e-08}. Best is trial 13 with value: 0.010813549781839052.\n",
      "[I 2025-01-18 11:04:35,048] Trial 41 finished with value: 0.013872758795817694 and parameters: {'l1': 8.369553363903539e-07, 'l2': 1.9150054252225666e-07, 'learn_rate': 0.014129865183534209}. Best is trial 13 with value: 0.010813549781839052.\n",
      "[I 2025-01-18 11:05:44,372] Trial 42 finished with value: 0.010881486969689528 and parameters: {'l1': 7.303579155656596e-07, 'l2': 4.036236017394632e-07, 'learn_rate': 0.002347285326355116}. Best is trial 13 with value: 0.010813549781839052.\n",
      "[I 2025-01-18 11:06:50,367] Trial 43 finished with value: 0.019915926580627758 and parameters: {'l1': 9.555332778711498e-07, 'l2': 5.499236011511476e-07, 'learn_rate': 5.969127134320756e-05}. Best is trial 13 with value: 0.010813549781839052.\n",
      "[I 2025-01-18 11:07:59,636] Trial 44 finished with value: 0.018864066029588383 and parameters: {'l1': 6.664222807974188e-05, 'l2': 6.2143536068713324e-06, 'learn_rate': 0.001122124396654911}. Best is trial 13 with value: 0.010813549781839052.\n",
      "[I 2025-01-18 11:08:52,069] Trial 45 finished with value: 0.013653318087259928 and parameters: {'l1': 5.471693056019465e-07, 'l2': 3.3176788018094953e-07, 'learn_rate': 0.006727694052207216}. Best is trial 13 with value: 0.010813549781839052.\n",
      "[I 2025-01-18 11:09:42,461] Trial 46 finished with value: 0.02821094108124574 and parameters: {'l1': 5.561358505497255e-06, 'l2': 4.928912729565439e-07, 'learn_rate': 0.0002676912184001171}. Best is trial 13 with value: 0.010813549781839052.\n",
      "[I 2025-01-18 11:10:34,834] Trial 47 finished with value: 0.012213466999431452 and parameters: {'l1': 6.203387032662822e-08, 'l2': 1.075341338837223e-05, 'learn_rate': 0.002009582001484926}. Best is trial 13 with value: 0.010813549781839052.\n",
      "[I 2025-01-18 11:11:24,740] Trial 48 finished with value: 0.029714633400241535 and parameters: {'l1': 4.962878295329617e-08, 'l2': 0.0007880399617657338, 'learn_rate': 0.0023117993974688593}. Best is trial 13 with value: 0.010813549781839052.\n",
      "[I 2025-01-18 11:12:14,822] Trial 49 finished with value: 0.03573016573985418 and parameters: {'l1': 5.715109631690781e-07, 'l2': 0.05130633771483249, 'learn_rate': 0.08718895539191959}. Best is trial 13 with value: 0.010813549781839052.\n",
      "[I 2025-01-18 11:13:14,077] Trial 50 finished with value: 0.011351318719486395 and parameters: {'l1': 2.337226712649654e-09, 'l2': 2.1586950849989133e-06, 'learn_rate': 0.005541776183865494}. Best is trial 13 with value: 0.010813549781839052.\n",
      "[I 2025-01-18 11:14:14,950] Trial 51 finished with value: 0.012532874631385008 and parameters: {'l1': 1.5797809745124182e-10, 'l2': 9.892759701499384e-06, 'learn_rate': 0.005776271059147677}. Best is trial 13 with value: 0.010813549781839052.\n",
      "[I 2025-01-18 11:15:14,633] Trial 52 finished with value: 0.012925682899852594 and parameters: {'l1': 2.7817558403593076e-10, 'l2': 1.7016045905895497e-05, 'learn_rate': 0.0012764184672586372}. Best is trial 13 with value: 0.010813549781839052.\n",
      "[I 2025-01-18 11:16:03,358] Trial 53 finished with value: 0.025650786235928535 and parameters: {'l1': 2.1988034936159852e-09, 'l2': 8.351474530080084e-05, 'learn_rate': 0.005314046924647295}. Best is trial 13 with value: 0.010813549781839052.\n",
      "[I 2025-01-18 11:16:29,066] Trial 54 finished with value: 0.011804624771078428 and parameters: {'l1': 3.7277171041496773e-10, 'l2': 2.953514990368305e-06, 'learn_rate': 0.014467575602289897}. Best is trial 13 with value: 0.010813549781839052.\n",
      "[I 2025-01-18 11:17:40,428] Trial 55 finished with value: 0.09467663615942001 and parameters: {'l1': 2.055026300226582e-09, 'l2': 2.1584837112273196e-06, 'learn_rate': 0.2756676295230228}. Best is trial 13 with value: 0.010813549781839052.\n",
      "[I 2025-01-18 11:18:38,357] Trial 56 finished with value: 0.012211185259123644 and parameters: {'l1': 5.172142658999207e-10, 'l2': 1.1233294760606248e-06, 'learn_rate': 0.019515244816284687}. Best is trial 13 with value: 0.010813549781839052.\n",
      "[I 2025-01-18 11:19:38,726] Trial 57 finished with value: 0.018829746792713802 and parameters: {'l1': 4.1672966080922495e-10, 'l2': 4.204421703115584e-06, 'learn_rate': 0.06652560879120469}. Best is trial 13 with value: 0.010813549781839052.\n",
      "[I 2025-01-18 11:20:33,812] Trial 58 finished with value: 0.012233058301111063 and parameters: {'l1': 6.65732590196899e-10, 'l2': 8.961815136328334e-07, 'learn_rate': 0.0178787219702268}. Best is trial 13 with value: 0.010813549781839052.\n",
      "[I 2025-01-18 11:21:25,859] Trial 59 finished with value: 0.0947963073849678 and parameters: {'l1': 3.5444458024355506e-09, 'l2': 1.049739332779464e-06, 'learn_rate': 0.6175397816971175}. Best is trial 13 with value: 0.010813549781839052.\n"
     ]
    }
   ],
   "source": [
    "# study = optuna.create_study(direction='minimize')\n",
    "\n",
    "\n",
    "study.optimize(objective, n_trials= 50)"
   ]
  },
  {
   "cell_type": "code",
   "execution_count": 47,
   "metadata": {},
   "outputs": [
    {
     "name": "stdout",
     "output_type": "stream",
     "text": [
      "{'l1': 2.424960106526441e-06, 'l2': 1.1331036420044789e-08, 'learn_rate': 0.0051545273395567325}\n",
      "0.010813549781839052\n"
     ]
    }
   ],
   "source": [
    "print(study.best_params)\n",
    "print(study.best_value)"
   ]
  },
  {
   "cell_type": "code",
   "execution_count": null,
   "metadata": {},
   "outputs": [],
   "source": []
  },
  {
   "cell_type": "code",
   "execution_count": null,
   "metadata": {},
   "outputs": [],
   "source": []
  },
  {
   "cell_type": "code",
   "execution_count": null,
   "metadata": {},
   "outputs": [],
   "source": []
  },
  {
   "cell_type": "code",
   "execution_count": null,
   "metadata": {},
   "outputs": [],
   "source": []
  },
  {
   "cell_type": "code",
   "execution_count": 0,
   "metadata": {
    "application/vnd.databricks.v1+cell": {
     "cellMetadata": {
      "byteLimit": 2048000,
      "rowLimit": 10000
     },
     "inputWidgets": {},
     "nuid": "2fc7c914-9856-4cc1-8c70-ffbe2ee36fe1",
     "showTitle": false,
     "tableResultSettingsMap": {},
     "title": ""
    }
   },
   "outputs": [],
   "source": [
    "# autoencoder.save('/dbfs/FileStore/MotorPL_Analytics/Andre/veiculos/autoencoders/autoencoder1_automovel')\n",
    "autoencoder.save('/dbfs/FileStore/MotorPL_Analytics/Andre/veiculos/autoencoders/autoencoder2_automovel')"
   ]
  },
  {
   "cell_type": "markdown",
   "metadata": {
    "application/vnd.databricks.v1+cell": {
     "cellMetadata": {
      "byteLimit": 2048000,
      "rowLimit": 10000
     },
     "inputWidgets": {},
     "nuid": "6d238c4e-cb24-4dcb-86aa-aa86c26966fc",
     "showTitle": false,
     "tableResultSettingsMap": {},
     "title": ""
    }
   },
   "source": [
    "Separando a primeira metade do autoencoder (encoder)"
   ]
  },
  {
   "cell_type": "code",
   "execution_count": 0,
   "metadata": {
    "application/vnd.databricks.v1+cell": {
     "cellMetadata": {
      "byteLimit": 2048000,
      "rowLimit": 10000
     },
     "inputWidgets": {},
     "nuid": "228afa5a-6b6e-474c-87bb-171b014e3e2c",
     "showTitle": false,
     "tableResultSettingsMap": {},
     "title": ""
    }
   },
   "outputs": [],
   "source": [
    "# autoencoder = keras.models.load_model('/dbfs/FileStore/MotorPL_Analytics/Andre/veiculos/autoencoders/autoencoder1_automovel')\n",
    "\n",
    "# autoencoder.summary()"
   ]
  },
  {
   "cell_type": "markdown",
   "metadata": {
    "application/vnd.databricks.v1+cell": {
     "cellMetadata": {
      "byteLimit": 2048000,
      "rowLimit": 10000
     },
     "inputWidgets": {},
     "nuid": "7d7be0b5-9276-4c48-b3a7-f5c5b8b846fa",
     "showTitle": false,
     "tableResultSettingsMap": {},
     "title": ""
    }
   },
   "source": [
    "Pelo summary do modelo, vemos que a camada latente é a segunda camada do modelo, entao vamos criar um modelo que tenho o input igual ao do autoencoder e output igual a saída dessa camada, aproveitando as camadas já treinadas"
   ]
  },
  {
   "cell_type": "code",
   "execution_count": 0,
   "metadata": {
    "application/vnd.databricks.v1+cell": {
     "cellMetadata": {
      "byteLimit": 2048000,
      "rowLimit": 10000
     },
     "inputWidgets": {},
     "nuid": "6c25b6b3-5458-41da-bc04-8c15b645ecb7",
     "showTitle": false,
     "tableResultSettingsMap": {},
     "title": ""
    }
   },
   "outputs": [],
   "source": [
    "embedding = keras.models.Model(inputs = autoencoder.input, outputs = autoencoder.layers[2].output)\n",
    "\n",
    "# Apenas para conferir, printa o summary desse novo modelo:\n",
    "embedding.summary()"
   ]
  },
  {
   "cell_type": "code",
   "execution_count": 0,
   "metadata": {
    "application/vnd.databricks.v1+cell": {
     "cellMetadata": {
      "byteLimit": 2048000,
      "rowLimit": 10000
     },
     "inputWidgets": {},
     "nuid": "0ea89a50-e402-4872-aae5-c4389549dc8a",
     "showTitle": false,
     "tableResultSettingsMap": {},
     "title": ""
    }
   },
   "outputs": [],
   "source": [
    "X_embedded = embedding.predict(X)\n",
    "X_embedded"
   ]
  },
  {
   "cell_type": "markdown",
   "metadata": {
    "application/vnd.databricks.v1+cell": {
     "cellMetadata": {
      "byteLimit": 2048000,
      "rowLimit": 10000
     },
     "inputWidgets": {},
     "nuid": "a8dfcaed-ca0a-4946-b232-86755f7f2b60",
     "showTitle": false,
     "tableResultSettingsMap": {},
     "title": ""
    }
   },
   "source": [
    "A seguir, plotei as coordenadas que saíram do embedding e coloquei a coloracao pela feature 10 da base X. Podemos ver, pelas cores, que o autoencoder consegue separar bem essa feature em alguns pares de coordenadas (segunda linha) e em outros pares de coordenadas ele nao trouxe quase nada da variação dessa feature (sexta linha)\n",
    "\n",
    "Essa análise é útil para dar alguma intuição sobre o embedding obtido e quais características ele está preservando"
   ]
  },
  {
   "cell_type": "code",
   "execution_count": 0,
   "metadata": {
    "application/vnd.databricks.v1+cell": {
     "cellMetadata": {
      "byteLimit": 2048000,
      "rowLimit": 10000
     },
     "inputWidgets": {},
     "nuid": "b52a9c84-cb1f-4c14-b0b1-44cc55bc6f19",
     "showTitle": false,
     "tableResultSettingsMap": {},
     "title": ""
    }
   },
   "outputs": [],
   "source": [
    "OrdinalEncoder().fit_transform(automovel[['comb_eta']]).reshape(1,-1)"
   ]
  },
  {
   "cell_type": "code",
   "execution_count": 0,
   "metadata": {
    "application/vnd.databricks.v1+cell": {
     "cellMetadata": {
      "byteLimit": 2048000,
      "rowLimit": 10000
     },
     "inputWidgets": {},
     "nuid": "10bb0c3b-2c04-42fa-9e95-ea7aa1a659c0",
     "showTitle": false,
     "tableResultSettingsMap": {},
     "title": ""
    }
   },
   "outputs": [],
   "source": [
    "n_latent = 6\n",
    "\n",
    "fig, axes = plt.subplots(n_latent,n_latent, figsize = (12,12))\n",
    "for i in range(n_latent):\n",
    "    for j in range(n_latent):\n",
    "        axes[i,j].scatter( X_embedded[:,i], y=X_embedded[:,j], \n",
    "                          c = OrdinalEncoder().fit_transform(automovel[['marca']]).reshape(1,-1), \n",
    "                          cmap='RdBu', s = 3)\n",
    "        # axes[i,j].set_xticks([])\n",
    "        # axes[i,j].set_yticks([])\n",
    "plt.show()"
   ]
  },
  {
   "cell_type": "code",
   "execution_count": 0,
   "metadata": {
    "application/vnd.databricks.v1+cell": {
     "cellMetadata": {
      "byteLimit": 2048000,
      "rowLimit": 10000
     },
     "inputWidgets": {},
     "nuid": "002b7234-e7ed-46a7-ba52-d98fab1d9de4",
     "showTitle": false,
     "tableResultSettingsMap": {},
     "title": ""
    }
   },
   "outputs": [],
   "source": [
    "pd.DataFrame(X_embedded, columns = ['x1','x2','x3','x4','x5','x6'])"
   ]
  },
  {
   "cell_type": "code",
   "execution_count": 0,
   "metadata": {
    "application/vnd.databricks.v1+cell": {
     "cellMetadata": {
      "byteLimit": 2048000,
      "rowLimit": 10000
     },
     "inputWidgets": {},
     "nuid": "faca29fe-f99d-4607-870c-8e97c8a0a2f7",
     "showTitle": false,
     "tableResultSettingsMap": {},
     "title": ""
    }
   },
   "outputs": [],
   "source": [
    "automovel_full = molicar[molicar['Categoria'] == 'Automovel'].copy().reset_index(drop=True)\n",
    "automovel_full[['x1','x2','x3','x4','x5','x6']] = pd.DataFrame(X_embedded, columns = ['x1','x2','x3','x4','x5','x6'])"
   ]
  },
  {
   "cell_type": "code",
   "execution_count": 0,
   "metadata": {
    "application/vnd.databricks.v1+cell": {
     "cellMetadata": {
      "byteLimit": 2048000,
      "rowLimit": 10000
     },
     "inputWidgets": {},
     "nuid": "75d0412c-7730-4100-9eb9-e89682d13fcd",
     "showTitle": false,
     "tableResultSettingsMap": {},
     "title": ""
    }
   },
   "outputs": [],
   "source": [
    "automovel[['x1','x2','x3','x4','x5','x6']] = pd.DataFrame(X_embedded, columns = ['x1','x2','x3','x4','x5','x6'])"
   ]
  },
  {
   "cell_type": "code",
   "execution_count": 0,
   "metadata": {
    "application/vnd.databricks.v1+cell": {
     "cellMetadata": {
      "byteLimit": 2048000,
      "rowLimit": 10000
     },
     "inputWidgets": {},
     "nuid": "b362bb55-f90a-4cc8-9308-47fa3cd8825a",
     "showTitle": false,
     "tableResultSettingsMap": {},
     "title": ""
    }
   },
   "outputs": [],
   "source": [
    "from sklearn.metrics.pairwise import euclidean_distances, manhattan_distances"
   ]
  },
  {
   "cell_type": "code",
   "execution_count": 0,
   "metadata": {
    "application/vnd.databricks.v1+cell": {
     "cellMetadata": {
      "byteLimit": 2048000,
      "rowLimit": 10000
     },
     "inputWidgets": {},
     "nuid": "e8b2d29e-4933-4966-919d-565649efbf22",
     "showTitle": false,
     "tableResultSettingsMap": {},
     "title": ""
    }
   },
   "outputs": [],
   "source": [
    "def get_coordinates(i):\n",
    "    return automovel_full.loc[i][['x1','x2','x3','x4','x5','x6']].to_numpy().reshape(1,6)\n",
    "\n",
    "def distance_from_i(i, metric = 'euclidean'):\n",
    "    ponto = get_coordinates(i)\n",
    "\n",
    "    df = automovel_full.copy()\n",
    "    if metric == 'manhattan':\n",
    "        df['distance'] = manhattan_distances(ponto, automovel_full[['x1','x2','x3','x4','x5','x6']].to_numpy()).reshape(-1,1)\n",
    "    else:\n",
    "        df['distance'] = euclidean_distances(ponto, automovel_full[['x1','x2','x3','x4','x5','x6']].to_numpy()).reshape(-1,1)\n",
    "\n",
    "    return df.sort_values(by='distance')\n",
    "\n",
    "get_coordinates(20666)"
   ]
  },
  {
   "cell_type": "code",
   "execution_count": 0,
   "metadata": {
    "application/vnd.databricks.v1+cell": {
     "cellMetadata": {
      "byteLimit": 2048000,
      "rowLimit": 10000
     },
     "inputWidgets": {},
     "nuid": "b7018631-fe4d-4579-b3a9-bace8995a05a",
     "showTitle": false,
     "tableResultSettingsMap": {},
     "title": ""
    }
   },
   "outputs": [],
   "source": [
    "automovel_full"
   ]
  },
  {
   "cell_type": "code",
   "execution_count": 0,
   "metadata": {
    "application/vnd.databricks.v1+cell": {
     "cellMetadata": {
      "byteLimit": 2048000,
      "rowLimit": 10000
     },
     "inputWidgets": {},
     "nuid": "2fd283d3-c202-4697-a87c-68a6ec751246",
     "showTitle": false,
     "tableResultSettingsMap": {},
     "title": ""
    }
   },
   "outputs": [],
   "source": [
    "get_coordinates(20663)"
   ]
  },
  {
   "cell_type": "code",
   "execution_count": 0,
   "metadata": {
    "application/vnd.databricks.v1+cell": {
     "cellMetadata": {
      "byteLimit": 2048000,
      "rowLimit": 10000
     },
     "inputWidgets": {},
     "nuid": "68c63a6d-ecca-4e06-92f0-8d266105e8dd",
     "showTitle": false,
     "tableResultSettingsMap": {},
     "title": ""
    }
   },
   "outputs": [],
   "source": [
    "distance_from_i(20663).head(10)"
   ]
  },
  {
   "cell_type": "code",
   "execution_count": 0,
   "metadata": {
    "application/vnd.databricks.v1+cell": {
     "cellMetadata": {
      "byteLimit": 2048000,
      "rowLimit": 10000
     },
     "inputWidgets": {},
     "nuid": "121ea623-be4a-4b2e-85c4-f452c6d3eaa5",
     "showTitle": false,
     "tableResultSettingsMap": {},
     "title": ""
    }
   },
   "outputs": [],
   "source": [
    "distance_from_i(10611, metric='manhattan').head(20)"
   ]
  },
  {
   "cell_type": "code",
   "execution_count": 0,
   "metadata": {
    "application/vnd.databricks.v1+cell": {
     "cellMetadata": {},
     "inputWidgets": {},
     "nuid": "67ccda5d-e804-4644-bd7f-f51d7371e738",
     "showTitle": false,
     "tableResultSettingsMap": {},
     "title": ""
    }
   },
   "outputs": [],
   "source": []
  },
  {
   "cell_type": "markdown",
   "metadata": {
    "application/vnd.databricks.v1+cell": {
     "cellMetadata": {
      "byteLimit": 2048000,
      "rowLimit": 10000
     },
     "inputWidgets": {},
     "nuid": "659098fa-00f5-40a1-897a-70fa152280d0",
     "showTitle": false,
     "tableResultSettingsMap": {},
     "title": ""
    }
   },
   "source": [
    "Podemos salvar a saída do modelo (X_embedded) ou o proprio modelo treinado para usar futuramente (nao se esqueca de configurar o caminho para salvar)"
   ]
  },
  {
   "cell_type": "code",
   "execution_count": 0,
   "metadata": {
    "application/vnd.databricks.v1+cell": {
     "cellMetadata": {
      "byteLimit": 2048000,
      "rowLimit": 10000
     },
     "inputWidgets": {},
     "nuid": "acb88534-65ff-4436-bc76-06db99a4f172",
     "showTitle": false,
     "tableResultSettingsMap": {},
     "title": ""
    }
   },
   "outputs": [],
   "source": []
  },
  {
   "cell_type": "code",
   "execution_count": 0,
   "metadata": {
    "application/vnd.databricks.v1+cell": {
     "cellMetadata": {
      "byteLimit": 2048000,
      "rowLimit": 10000
     },
     "inputWidgets": {},
     "nuid": "a98de773-8bb5-49fb-84c9-9be142dc1e55",
     "showTitle": false,
     "tableResultSettingsMap": {},
     "title": ""
    }
   },
   "outputs": [],
   "source": [
    "dbutils.fs.ls('/FileStore/MotorPL_Analytics/Andre/veiculos/autoencoders')"
   ]
  },
  {
   "cell_type": "code",
   "execution_count": 0,
   "metadata": {
    "application/vnd.databricks.v1+cell": {
     "cellMetadata": {
      "byteLimit": 2048000,
      "rowLimit": 10000
     },
     "inputWidgets": {},
     "nuid": "52f248cf-8366-4072-a0cd-cce1b8c4cce8",
     "showTitle": false,
     "tableResultSettingsMap": {},
     "title": ""
    }
   },
   "outputs": [
    {
     "data": {
      "text/html": [
       "<style scoped>\n",
       "  .ansiout {\n",
       "    display: block;\n",
       "    unicode-bidi: embed;\n",
       "    white-space: pre-wrap;\n",
       "    word-wrap: break-word;\n",
       "    word-break: break-all;\n",
       "    font-family: \"Menlo\", \"Monaco\", \"Consolas\", \"Ubuntu Mono\", \"Source Code Pro\", monospace;\n",
       "    font-size: 13px;\n",
       "    color: #555;\n",
       "    margin-left: 4px;\n",
       "    line-height: 19px;\n",
       "  }\n",
       "</style>\n",
       "<div class=\"ansiout\"></div>"
      ]
     },
     "metadata": {
      "application/vnd.databricks.v1+output": {
       "addedWidgets": {},
       "arguments": {},
       "data": "<div class=\"ansiout\"></div>",
       "datasetInfos": [],
       "metadata": {},
       "removedWidgets": [],
       "type": "html"
      }
     },
     "output_type": "display_data"
    },
    {
     "data": {
      "text/html": [
       "<style scoped>\n",
       "  .ansiout {\n",
       "    display: block;\n",
       "    unicode-bidi: embed;\n",
       "    white-space: pre-wrap;\n",
       "    word-wrap: break-word;\n",
       "    word-break: break-all;\n",
       "    font-family: \"Menlo\", \"Monaco\", \"Consolas\", \"Ubuntu Mono\", \"Source Code Pro\", monospace;\n",
       "    font-size: 13px;\n",
       "    color: #555;\n",
       "    margin-left: 4px;\n",
       "    line-height: 19px;\n",
       "  }\n",
       "</style>\n",
       "<div class=\"ansiout\"><span class=\"ansi-red-fg\">---------------------------------------------------------------------------</span>\n",
       "<span class=\"ansi-red-fg\">NameError</span>                                 Traceback (most recent call last)\n",
       "<span class=\"ansi-green-fg\">&lt;command-1725063711718996&gt;</span> in <span class=\"ansi-cyan-fg\">&lt;module&gt;</span>\n",
       "<span class=\"ansi-green-fg\">----&gt; 1</span><span class=\"ansi-red-fg\"> </span>teste <span class=\"ansi-blue-fg\">=</span> keras<span class=\"ansi-blue-fg\">.</span>models<span class=\"ansi-blue-fg\">.</span>load_model<span class=\"ansi-blue-fg\">(</span><span class=\"ansi-blue-fg\">&#39;/dbfs/FileStore/MotorPL_Analytics/Andre/veiculos/autoencoders/autoencoder1_automovel&#39;</span><span class=\"ansi-blue-fg\">)</span>\n",
       "\n",
       "<span class=\"ansi-red-fg\">NameError</span>: name &#39;keras&#39; is not defined</div>"
      ]
     },
     "metadata": {
      "application/vnd.databricks.v1+output": {
       "arguments": {},
       "data": "<div class=\"ansiout\"><span class=\"ansi-red-fg\">---------------------------------------------------------------------------</span>\n<span class=\"ansi-red-fg\">NameError</span>                                 Traceback (most recent call last)\n<span class=\"ansi-green-fg\">&lt;command-1725063711718996&gt;</span> in <span class=\"ansi-cyan-fg\">&lt;module&gt;</span>\n<span class=\"ansi-green-fg\">----&gt; 1</span><span class=\"ansi-red-fg\"> </span>teste <span class=\"ansi-blue-fg\">=</span> keras<span class=\"ansi-blue-fg\">.</span>models<span class=\"ansi-blue-fg\">.</span>load_model<span class=\"ansi-blue-fg\">(</span><span class=\"ansi-blue-fg\">&#39;/dbfs/FileStore/MotorPL_Analytics/Andre/veiculos/autoencoders/autoencoder1_automovel&#39;</span><span class=\"ansi-blue-fg\">)</span>\n\n<span class=\"ansi-red-fg\">NameError</span>: name &#39;keras&#39; is not defined</div>",
       "errorSummary": "<span class=\"ansi-red-fg\">NameError</span>: name &#39;keras&#39; is not defined",
       "errorTraceType": "html",
       "metadata": {},
       "type": "ipynbError"
      }
     },
     "output_type": "display_data"
    }
   ],
   "source": [
    "teste = keras.models.load_model('/dbfs/FileStore/MotorPL_Analytics/Andre/veiculos/autoencoders/autoencoder1_automovel')"
   ]
  },
  {
   "cell_type": "code",
   "execution_count": 0,
   "metadata": {
    "application/vnd.databricks.v1+cell": {
     "cellMetadata": {
      "byteLimit": 2048000,
      "rowLimit": 10000
     },
     "inputWidgets": {},
     "nuid": "b02f610d-8bc1-4bff-a8bc-02ffaa4c93ce",
     "showTitle": false,
     "tableResultSettingsMap": {},
     "title": ""
    }
   },
   "outputs": [],
   "source": [
    "teste.evaluate(X,X)"
   ]
  },
  {
   "cell_type": "markdown",
   "metadata": {
    "application/vnd.databricks.v1+cell": {
     "cellMetadata": {
      "byteLimit": 2048000,
      "rowLimit": 10000
     },
     "inputWidgets": {},
     "nuid": "56619c55-58d7-4c6a-a1d4-6c1e760ed300",
     "showTitle": false,
     "tableResultSettingsMap": {},
     "title": ""
    }
   },
   "source": [
    "Melhoria futura:\n",
    "\n",
    "Implementar um método de cross_predict"
   ]
  }
 ],
 "metadata": {
  "application/vnd.databricks.v1+notebook": {
   "computePreferences": {
    "hardware": {
     "accelerator": null,
     "gpuPoolId": null,
     "memory": null
    }
   },
   "dashboards": [],
   "environmentMetadata": {
    "base_environment": "",
    "client": "1"
   },
   "language": "python",
   "notebookMetadata": {
    "mostRecentlyExecutedCommandWithImplicitDF": {
     "commandId": 4280449628920156,
     "dataframes": [
      "_sqldf"
     ]
    },
    "pythonIndentUnit": 4
   },
   "notebookName": "autoencoder molicar",
   "widgets": {}
  },
  "kernelspec": {
   "display_name": "talksinmaths",
   "language": "python",
   "name": "python3"
  },
  "language_info": {
   "codemirror_mode": {
    "name": "ipython",
    "version": 3
   },
   "file_extension": ".py",
   "mimetype": "text/x-python",
   "name": "python",
   "nbconvert_exporter": "python",
   "pygments_lexer": "ipython3",
   "version": "3.8.20"
  }
 },
 "nbformat": 4,
 "nbformat_minor": 0
}
