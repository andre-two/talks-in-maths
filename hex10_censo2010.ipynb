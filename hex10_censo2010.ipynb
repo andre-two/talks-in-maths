{
 "cells": [
  {
   "cell_type": "code",
   "execution_count": 0,
   "metadata": {
    "application/vnd.databricks.v1+cell": {
     "cellMetadata": {
      "byteLimit": 2048000,
      "rowLimit": 10000
     },
     "inputWidgets": {},
     "nuid": "53cbb326-38d8-4731-ac3a-b276944fe678",
     "showTitle": false,
     "title": ""
    },
    "collapsed": true,
    "id": "M1-DV9GnDRr7"
   },
   "outputs": [],
   "source": [
    "%pip install geopandas\n",
    "%pip install h3\n",
    "%pip install shapely\n",
    "%pip install folium\n",
    "%pip install geopy\n",
    "%pip install mapclassify"
   ]
  },
  {
   "cell_type": "code",
   "execution_count": 0,
   "metadata": {
    "application/vnd.databricks.v1+cell": {
     "cellMetadata": {
      "byteLimit": 2048000,
      "rowLimit": 10000
     },
     "inputWidgets": {},
     "nuid": "7114d7ef-7d95-4965-96ea-c41d497feadc",
     "showTitle": false,
     "title": ""
    }
   },
   "outputs": [],
   "source": [
    "dbutils.library.restartPython()"
   ]
  },
  {
   "cell_type": "code",
   "execution_count": 0,
   "metadata": {
    "application/vnd.databricks.v1+cell": {
     "cellMetadata": {
      "byteLimit": 2048000,
      "rowLimit": 10000
     },
     "inputWidgets": {},
     "nuid": "c5b23e3b-9db9-4ff9-931a-edc5bcdab4e7",
     "showTitle": false,
     "title": ""
    },
    "colab": {
     "base_uri": "https://localhost:8080/"
    },
    "executionInfo": {
     "elapsed": 16400,
     "status": "ok",
     "timestamp": 1724245938716,
     "user": {
      "displayName": "Andre Antunes",
      "userId": "09934954272950168181"
     },
     "user_tz": 180
    },
    "id": "RcaAOTBxxUaD",
    "outputId": "85c682e3-bb04-40df-d6be-7b6b2ab75701"
   },
   "outputs": [],
   "source": [
    "# # prompt: mount google drive\n",
    "\n",
    "# from google.colab import drive\n",
    "# drive.mount('/content/drive')"
   ]
  },
  {
   "cell_type": "code",
   "execution_count": 0,
   "metadata": {
    "application/vnd.databricks.v1+cell": {
     "cellMetadata": {},
     "inputWidgets": {},
     "nuid": "8bbe6d1e-43ac-4f98-9dfb-f598a95517fd",
     "showTitle": false,
     "title": ""
    },
    "id": "SppVh7x5KGTz"
   },
   "outputs": [],
   "source": [
    "import pandas as pd\n",
    "import numpy as np"
   ]
  },
  {
   "cell_type": "markdown",
   "metadata": {
    "application/vnd.databricks.v1+cell": {
     "cellMetadata": {},
     "inputWidgets": {},
     "nuid": "e1000913-a02f-4ea8-89cb-3c572377e880",
     "showTitle": false,
     "title": ""
    },
    "id": "7ls9DIiPuavH"
   },
   "source": [
    "# tratando censo 2010"
   ]
  },
  {
   "cell_type": "code",
   "execution_count": 0,
   "metadata": {
    "application/vnd.databricks.v1+cell": {
     "cellMetadata": {},
     "inputWidgets": {},
     "nuid": "137fcf30-41ca-4dad-b483-4b04f06df1b9",
     "showTitle": false,
     "title": ""
    },
    "executionInfo": {
     "elapsed": 3,
     "status": "ok",
     "timestamp": 1724245947169,
     "user": {
      "displayName": "Andre Antunes",
      "userId": "09934954272950168181"
     },
     "user_tz": 180
    },
    "id": "60hW1FHVuP_0"
   },
   "outputs": [],
   "source": [
    "UF = ['AM', 'BA', 'MG', 'MS', 'MT', 'PA']"
   ]
  },
  {
   "cell_type": "code",
   "execution_count": 0,
   "metadata": {
    "application/vnd.databricks.v1+cell": {
     "cellMetadata": {},
     "inputWidgets": {},
     "nuid": "fe51e348-ad35-4715-a98b-32ec9f242309",
     "showTitle": false,
     "title": ""
    },
    "colab": {
     "base_uri": "https://localhost:8080/",
     "height": 283
    },
    "executionInfo": {
     "elapsed": 12379,
     "status": "ok",
     "timestamp": 1724245960004,
     "user": {
      "displayName": "Andre Antunes",
      "userId": "09934954272950168181"
     },
     "user_tz": 180
    },
    "id": "NG7gVhlsusNF",
    "outputId": "046622d2-eec1-4a71-85fd-20b9df2dede8"
   },
   "outputs": [],
   "source": [
    "# Domicilio01\n",
    "f = 'Domicilio01'\n",
    "\n",
    "list_domicilio01 = [pd.read_csv(f'/content/drive/MyDrive/07. Regiao/{u}/CSV/{f}_{u}.csv', sep=';') for u in UF]\n",
    "\n",
    "domicilio01 = pd.concat(list_domicilio01).reset_index(drop=True)\n",
    "domicilio01 = domicilio01[['Cod_setor', 'V001']].copy()\n",
    "\n",
    "domicilio01['Cod_setor'] = domicilio01['Cod_setor'].astype('str')\n",
    "domicilio01['V001'] = domicilio01['V001'].astype('float')\n",
    "\n",
    "domicilio01.columns = ['cod_setor', 'dom_total']\n",
    "\n",
    "domicilio01['cod_uf'] = domicilio01['cod_setor'].str[:2]\n",
    "\n",
    "domicilio01 = domicilio01[['cod_setor', 'cod_uf', 'dom_total']].copy()\n",
    "\n",
    "print(domicilio01.shape)\n",
    "print(domicilio01.isna().sum())\n",
    "domicilio01.head()\n"
   ]
  },
  {
   "cell_type": "code",
   "execution_count": 0,
   "metadata": {
    "application/vnd.databricks.v1+cell": {
     "cellMetadata": {},
     "inputWidgets": {},
     "nuid": "2ab28962-3a8a-4563-8d67-74bb82509aa5",
     "showTitle": false,
     "title": ""
    },
    "colab": {
     "base_uri": "https://localhost:8080/",
     "height": 267
    },
    "executionInfo": {
     "elapsed": 6826,
     "status": "ok",
     "timestamp": 1724245971424,
     "user": {
      "displayName": "Andre Antunes",
      "userId": "09934954272950168181"
     },
     "user_tz": 180
    },
    "id": "ShBylAGTwLpD",
    "outputId": "3eb6e404-85fa-49ae-cadc-ac18e8a8cdb5"
   },
   "outputs": [],
   "source": [
    "# Pessoa01\n",
    "f = 'Pessoa01'\n",
    "\n",
    "list_pessoa01 = [pd.read_csv(f'/content/drive/MyDrive/07. Regiao/{u}/CSV/{f}_{u}.csv', sep=';') for u in UF]\n",
    "\n",
    "pessoa01 = pd.concat(list_pessoa01).reset_index(drop=True)\n",
    "pessoa01 = pessoa01[['Cod_setor', 'V001']].copy()\n",
    "\n",
    "pessoa01['Cod_setor'] = pessoa01['Cod_setor'].astype('str')\n",
    "pessoa01['V001'] = pessoa01['V001'].astype('float')\n",
    "\n",
    "pessoa01.columns = ['cod_setor', 'pop_alfabetizada']\n",
    "\n",
    "print(pessoa01.shape)\n",
    "print(pessoa01.isna().sum())\n",
    "pessoa01.head()\n"
   ]
  },
  {
   "cell_type": "code",
   "execution_count": 0,
   "metadata": {
    "application/vnd.databricks.v1+cell": {
     "cellMetadata": {},
     "inputWidgets": {},
     "nuid": "0b9dc483-60f9-4a0d-9840-98cea90d65b9",
     "showTitle": false,
     "title": ""
    },
    "colab": {
     "base_uri": "https://localhost:8080/",
     "height": 402
    },
    "executionInfo": {
     "elapsed": 11720,
     "status": "ok",
     "timestamp": 1724245985287,
     "user": {
      "displayName": "Andre Antunes",
      "userId": "09934954272950168181"
     },
     "user_tz": 180
    },
    "id": "XXdZFyT7ww94",
    "outputId": "b89f88fb-ab9a-4016-beeb-247b6e59912f"
   },
   "outputs": [],
   "source": [
    "# Pessoa13\n",
    "f = 'Pessoa13'\n",
    "\n",
    "list_pessoa13 = [pd.read_csv(f'/content/drive/MyDrive/07. Regiao/{u}/CSV/{f}_{u}.csv', sep=';') for u in UF]\n",
    "\n",
    "pessoa13_temp = pd.concat(list_pessoa13).reset_index(drop=True)\n",
    "\n",
    "pessoa13_temp['V001'] = pd.to_numeric(pessoa13_temp['V001'], errors='coerce')\n",
    "pessoa13_temp['V022'] = pd.to_numeric(pessoa13_temp['V022'], errors='coerce')\n",
    "\n",
    "pessoa13_temp.iloc[:, 36:136] = pessoa13_temp.iloc[:, 36:136].apply(pd.to_numeric, errors='coerce')\n",
    "\n",
    "pessoa13 = pd.DataFrame()\n",
    "pessoa13['cod_setor'] = pessoa13_temp['Cod_setor'].astype('str')\n",
    "pessoa13['pop_total'] = pessoa13_temp['V001'].astype('float')\n",
    "\n",
    "pessoa13['pop_0_17_anos'] = (np.sum(pessoa13_temp.iloc[:,36:53], axis=1) + pessoa13_temp['V022']).astype('float')\n",
    "pessoa13['pop_18_24_anos'] = np.sum(pessoa13_temp.iloc[:,53:60], axis=1).astype('float')\n",
    "pessoa13['pop_25_34_anos'] = np.sum(pessoa13_temp.iloc[:,60:70], axis=1).astype('float')\n",
    "pessoa13['pop_35_44_anos'] = np.sum(pessoa13_temp.iloc[:,70:80], axis=1).astype('float')\n",
    "pessoa13['pop_45_59_anos'] = np.sum(pessoa13_temp.iloc[:,80:95], axis=1).astype('float')\n",
    "pessoa13['pop_60_79_anos'] = np.sum(pessoa13_temp.iloc[:,95:115], axis=1).astype('float')\n",
    "pessoa13['pop_80_99_anos'] = np.sum(pessoa13_temp.iloc[:,115:136], axis=1).astype('float')\n",
    "\n",
    "\n",
    "print(pessoa13.shape)\n",
    "print(pessoa13.isna().sum())\n",
    "pessoa13.head()"
   ]
  },
  {
   "cell_type": "code",
   "execution_count": 0,
   "metadata": {
    "application/vnd.databricks.v1+cell": {
     "cellMetadata": {},
     "inputWidgets": {},
     "nuid": "d243a7e6-333a-44c2-9939-84cf6fd64fcb",
     "showTitle": false,
     "title": ""
    },
    "colab": {
     "base_uri": "https://localhost:8080/",
     "height": 583
    },
    "executionInfo": {
     "elapsed": 8110,
     "status": "ok",
     "timestamp": 1724245995385,
     "user": {
      "displayName": "Andre Antunes",
      "userId": "09934954272950168181"
     },
     "user_tz": 180
    },
    "id": "qOTUjLr3y6i8",
    "outputId": "4dc3a2dd-5954-4cfa-9dfd-7b95790ec36d"
   },
   "outputs": [],
   "source": [
    "# PessoaRenda\n",
    "f = 'PessoaRenda'\n",
    "\n",
    "list_pessoarenda = [pd.read_csv(f'/content/drive/MyDrive/07. Regiao/{u}/CSV/{f}_{u}.csv', sep=';') for u in UF]\n",
    "\n",
    "pessoarenda = pd.concat(list_pessoarenda).reset_index(drop=True)\n",
    "\n",
    "pessoarenda = pessoarenda.iloc[:,:24].copy().drop(columns = ['V020', 'V021', 'Situacao_setor', 'V010'])\n",
    "\n",
    "pessoarenda['Cod_setor'] = pessoarenda['Cod_setor'].astype('str')\n",
    "pessoarenda.iloc[:, 1:20] = pessoarenda.iloc[:, 1:20].apply(pd.to_numeric, errors='coerce')\n",
    "\n",
    "for c in pessoarenda.columns:\n",
    "  if c != 'Cod_setor':\n",
    "    pessoarenda[c] = pessoarenda[c].astype('float')\n",
    "\n",
    "pessoarenda.columns = ['cod_setor',\n",
    "                       'pop_renda_0_1s2', 'pop_renda_1s2_1', 'pop_renda_1_2', 'pop_renda_2_3', 'pop_renda_3_5', 'pop_renda_5_10',\n",
    "                       'pop_renda_10_15', 'pop_renda_15_20', 'pop_renda_20_99',\n",
    "                       'renda_nom_0_1s2', 'renda_nom_1s2_1', 'renda_nom_1_2', 'renda_nom_2_3', 'renda_nom_3_5', 'renda_nom_5_10',\n",
    "                       'renda_nom_10_15', 'renda_nom_15_20', 'renda_nom_20_99',\n",
    "                       'renda_nom_total']\n",
    "\n",
    "# pessoarenda['pop_total'] = pessoarenda['V001'].astype('float')\n",
    "\n",
    "# pessoarenda['pop_0_17_anos'] = (np.sum(pessoarenda.iloc[:,36:53], axis=1) + pessoarenda['V022']).astype('float')\n",
    "# pessoarenda['pop_18_24_anos'] = np.sum(pessoarenda.iloc[:,53:60], axis=1).astype('float')\n",
    "# pessoarenda['pop_25_34_anos'] = np.sum(pessoarenda.iloc[:,60:70], axis=1).astype('float')\n",
    "# pessoarenda['pop_35_44_anos'] = np.sum(pessoarenda.iloc[:,70:80], axis=1).astype('float')\n",
    "# pessoarenda['pop_45_59_anos'] = np.sum(pessoarenda.iloc[:,80:95], axis=1).astype('float')\n",
    "# pessoarenda['pop_60_79_anos'] = np.sum(pessoarenda.iloc[:,95:115], axis=1).astype('float')\n",
    "# pessoarenda['pop_80_99_anos'] = np.sum(pessoarenda.iloc[:,115:136], axis=1).astype('float')\n",
    "\n",
    "\n",
    "print(pessoarenda.shape)\n",
    "print(pessoarenda.isna().sum())\n",
    "pessoarenda.head()"
   ]
  },
  {
   "cell_type": "code",
   "execution_count": 0,
   "metadata": {
    "application/vnd.databricks.v1+cell": {
     "cellMetadata": {},
     "inputWidgets": {},
     "nuid": "d0a602e5-52a1-4748-a8d3-13da44ee6cf0",
     "showTitle": false,
     "title": ""
    },
    "colab": {
     "base_uri": "https://localhost:8080/",
     "height": 265
    },
    "executionInfo": {
     "elapsed": 415,
     "status": "ok",
     "timestamp": 1724246003108,
     "user": {
      "displayName": "Andre Antunes",
      "userId": "09934954272950168181"
     },
     "user_tz": 180
    },
    "id": "kWyZDar_0rz1",
    "outputId": "da55aceb-e2dd-4675-fdbd-1af63c6fc0ec"
   },
   "outputs": [],
   "source": [
    "censo2010 = domicilio01.merge(\n",
    "    pessoa01, on='cod_setor', how='left'\n",
    ").merge(\n",
    "    pessoa13, on='cod_setor', how='left'\n",
    ").merge(\n",
    "    pessoarenda, on='cod_setor', how='left'\n",
    ")\n",
    "\n",
    "censo2010.reset_index(drop=True, inplace=True)\n",
    "\n",
    "print(censo2010.shape)\n",
    "censo2010.head()"
   ]
  },
  {
   "cell_type": "code",
   "execution_count": 0,
   "metadata": {
    "application/vnd.databricks.v1+cell": {
     "cellMetadata": {},
     "inputWidgets": {},
     "nuid": "b5204746-b230-4fe0-979a-7858c2f3b933",
     "showTitle": false,
     "title": ""
    },
    "executionInfo": {
     "elapsed": 491,
     "status": "ok",
     "timestamp": 1724246031259,
     "user": {
      "displayName": "Andre Antunes",
      "userId": "09934954272950168181"
     },
     "user_tz": 180
    },
    "id": "2zRpmmTSEjje"
   },
   "outputs": [],
   "source": [
    "censo2010.to_parquet('/content/drive/MyDrive/07. Regiao/censo2010.parquet')"
   ]
  },
  {
   "cell_type": "markdown",
   "metadata": {
    "application/vnd.databricks.v1+cell": {
     "cellMetadata": {},
     "inputWidgets": {},
     "nuid": "48047935-7a1b-42ba-a228-fccaab983e21",
     "showTitle": false,
     "title": ""
    },
    "id": "YE2_zSiZ22oT"
   },
   "source": [
    "# criar hex_grid_UF"
   ]
  },
  {
   "cell_type": "code",
   "execution_count": 0,
   "metadata": {
    "application/vnd.databricks.v1+cell": {
     "cellMetadata": {
      "byteLimit": 2048000,
      "rowLimit": 10000
     },
     "inputWidgets": {},
     "nuid": "414652ef-96a3-4c6f-9986-6b28d53718d2",
     "showTitle": false,
     "title": ""
    },
    "executionInfo": {
     "elapsed": 829,
     "status": "ok",
     "timestamp": 1724246072118,
     "user": {
      "displayName": "Andre Antunes",
      "userId": "09934954272950168181"
     },
     "user_tz": 180
    },
    "id": "cGYglOzx3aY7"
   },
   "outputs": [],
   "source": [
    "import pandas as pd\n",
    "import numpy as np\n",
    "\n",
    "import geopandas as gpd\n",
    "from shapely.geometry import Polygon, mapping\n",
    "import h3\n",
    "import folium"
   ]
  },
  {
   "cell_type": "code",
   "execution_count": 0,
   "metadata": {
    "application/vnd.databricks.v1+cell": {
     "cellMetadata": {
      "byteLimit": 2048000,
      "rowLimit": 10000
     },
     "inputWidgets": {},
     "nuid": "323f3b11-e353-4adb-b0d2-68e62682f252",
     "showTitle": false,
     "title": ""
    }
   },
   "outputs": [],
   "source": [
    "%sh ls"
   ]
  },
  {
   "cell_type": "code",
   "execution_count": 0,
   "metadata": {
    "application/vnd.databricks.v1+cell": {
     "cellMetadata": {
      "byteLimit": 2048000,
      "rowLimit": 10000
     },
     "inputWidgets": {},
     "nuid": "ff91abb6-a83e-4166-8fd1-d26bc511d509",
     "showTitle": false,
     "title": ""
    }
   },
   "outputs": [],
   "source": [
    "pd.read_parquet('https://github.com/andre-two/talks-in-maths/blob/ffb937b76d5efb0468b60e1e06ad0256f0f19705/censo2010.parquet')"
   ]
  },
  {
   "cell_type": "code",
   "execution_count": 0,
   "metadata": {
    "application/vnd.databricks.v1+cell": {
     "cellMetadata": {
      "byteLimit": 2048000,
      "rowLimit": 10000
     },
     "inputWidgets": {},
     "nuid": "5dc85ed2-0900-4e6a-bd8d-eb789d2131fb",
     "showTitle": false,
     "title": ""
    },
    "colab": {
     "base_uri": "https://localhost:8080/"
    },
    "executionInfo": {
     "elapsed": 29888,
     "status": "ok",
     "timestamp": 1724246102564,
     "user": {
      "displayName": "Andre Antunes",
      "userId": "09934954272950168181"
     },
     "user_tz": 180
    },
    "id": "VdtlS6v_24Wz",
    "outputId": "1bc0eba5-7549-4a8c-c124-706f15eb5606"
   },
   "outputs": [],
   "source": [
    "# df_mun = gpd.read_file('/content/drive/MyDrive/07. Regiao/BR_Municipios_2022/BR_Municipios_2022.shp')\n",
    "df_mun = gpd.read_file('https://github.com/andre-two/talks-in-maths/blob/ffb937b76d5efb0468b60e1e06ad0256f0f19705/BR_Municipios_2022/BR_Municipios_2022.shp')\n",
    "df_mun.shape\n",
    "\n"
   ]
  },
  {
   "cell_type": "code",
   "execution_count": 0,
   "metadata": {
    "application/vnd.databricks.v1+cell": {
     "cellMetadata": {
      "byteLimit": 2048000,
      "rowLimit": 10000
     },
     "inputWidgets": {},
     "nuid": "3e4e191d-3f81-4304-85ca-fdc59b69db09",
     "showTitle": false,
     "title": ""
    }
   },
   "outputs": [],
   "source": [
    "dbutils.fs.ls('/')"
   ]
  },
  {
   "cell_type": "code",
   "execution_count": 0,
   "metadata": {
    "application/vnd.databricks.v1+cell": {
     "cellMetadata": {},
     "inputWidgets": {},
     "nuid": "fcfaa657-3993-47de-937e-0c0aaea8d152",
     "showTitle": false,
     "title": ""
    },
    "executionInfo": {
     "elapsed": 7,
     "status": "ok",
     "timestamp": 1724246102564,
     "user": {
      "displayName": "Andre Antunes",
      "userId": "09934954272950168181"
     },
     "user_tz": 180
    },
    "id": "WgfyqwHI3GYV"
   },
   "outputs": [],
   "source": [
    "def list_h3_from_geometry(g, res):\n",
    "  hex_list = []\n",
    "\n",
    "  try:\n",
    "    temp = mapping(g)\n",
    "\n",
    "    # gets coordinates of geometry from the geojson\n",
    "    temp['coordinates'] = [[[j[1], j[0]] for j in i] for i in temp['coordinates']]\n",
    "    # temp['coordinates'] = [[j[1], j[0]] for j in temp['coordinates']]\n",
    "\n",
    "    # fills polygon with hexagons that are contained by the geojson-like structure\n",
    "    hex_list.extend(h3.polyfill(geojson = temp, res = res))\n",
    "\n",
    "  except:\n",
    "\n",
    "    for g in g.geoms:\n",
    "      temp = mapping(g)\n",
    "\n",
    "      # gets coordinates of geometry from the geojson\n",
    "      temp['coordinates'] = [[j[1], j[0]] for j in temp['coordinates']]\n",
    "\n",
    "      # fills polygon with hexagons that are contained by the geojson-like structure\n",
    "      hex_list.extend(h3.polyfill(geojson = temp, res = res))\n",
    "\n",
    "\n",
    "  return set(hex_list)\n",
    "\n",
    "\n",
    "\n",
    "def criar_df_hex(df_mun):\n",
    "  df = df_mun.copy()\n",
    "\n",
    "  df['list_h3_10'] = df['geometry'].apply(lambda x: list_h3_from_geometry(x, 10))\n",
    "\n",
    "  n = 0\n",
    "  for i in df['list_h3_10'].values:\n",
    "    n = n + len(i)\n",
    "\n",
    "  assert len(set.union(*df['list_h3_10'].values)) == n\n",
    "\n",
    "  df = df.drop(columns = ['geometry', 'AREA_KM2'])\\\n",
    "        .explode('list_h3_10')\\\n",
    "        .rename(columns = {'list_h3_10': 'h3_10_id'})\\\n",
    "        .reset_index(drop=True)\n",
    "\n",
    "  return df\n"
   ]
  },
  {
   "cell_type": "code",
   "execution_count": 0,
   "metadata": {
    "application/vnd.databricks.v1+cell": {
     "cellMetadata": {},
     "inputWidgets": {},
     "nuid": "cd05e03d-d1d0-4f51-8e3a-cc975501750d",
     "showTitle": false,
     "title": ""
    },
    "executionInfo": {
     "elapsed": 885,
     "status": "ok",
     "timestamp": 1724246117165,
     "user": {
      "displayName": "Andre Antunes",
      "userId": "09934954272950168181"
     },
     "user_tz": 180
    },
    "id": "a8ZCzWg3Ey-B"
   },
   "outputs": [],
   "source": [
    "UF = ['MS', 'BA', 'MG', 'MT', 'PA', 'AM']\n"
   ]
  },
  {
   "cell_type": "code",
   "execution_count": 0,
   "metadata": {
    "application/vnd.databricks.v1+cell": {
     "cellMetadata": {},
     "inputWidgets": {},
     "nuid": "12a06ea7-0a55-43f9-8acb-d31128cef35b",
     "showTitle": false,
     "title": ""
    },
    "colab": {
     "base_uri": "https://localhost:8080/"
    },
    "id": "UclYzRYZ5atz",
    "outputId": "e56ff907-610a-46b9-d46f-9de306e34032"
   },
   "outputs": [],
   "source": [
    "for u in UF:\n",
    "  print(f'{u} iniciando', 60*'-')\n",
    "  df_hex = criar_df_hex(df_mun[df_mun['SIGLA_UF'] == u])\n",
    "\n",
    "  print('df_hex criado com sucesso')\n",
    "\n",
    "  df_hex.to_parquet(f'/content/drive/MyDrive/07. Regiao/hex_municipal/df_hex_{u}.parquet')\n",
    "  print(f'{u} salvo com {df_hex.shape[0]} poligonos', 50*'-')\n"
   ]
  },
  {
   "cell_type": "code",
   "execution_count": 0,
   "metadata": {
    "application/vnd.databricks.v1+cell": {
     "cellMetadata": {},
     "inputWidgets": {},
     "nuid": "183a2fb0-b439-4304-803d-d61e30cff286",
     "showTitle": false,
     "title": ""
    },
    "id": "XBPZuMnCE8-l"
   },
   "outputs": [],
   "source": []
  }
 ],
 "metadata": {
  "accelerator": "GPU",
  "application/vnd.databricks.v1+notebook": {
   "dashboards": [],
   "environmentMetadata": null,
   "language": "python",
   "notebookMetadata": {
    "mostRecentlyExecutedCommandWithImplicitDF": {
     "commandId": 1978723676673871,
     "dataframes": [
      "_sqldf"
     ]
    },
    "pythonIndentUnit": 4
   },
   "notebookName": "hex10_censo2010",
   "widgets": {}
  },
  "colab": {
   "authorship_tag": "ABX9TyMRHskXTOSV/IPW97XvzGMK",
   "gpuType": "T4",
   "machine_shape": "hm",
   "mount_file_id": "1DTF2t1tOcF8j_z49Sk2XkPI8YD_JVwnk",
   "provenance": []
  },
  "kernelspec": {
   "display_name": "Python 3",
   "name": "python3"
  },
  "language_info": {
   "name": "python"
  }
 },
 "nbformat": 4,
 "nbformat_minor": 0
}
